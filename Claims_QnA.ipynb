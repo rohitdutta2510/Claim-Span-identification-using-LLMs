{
  "metadata": {
    "colab": {
      "provenance": [],
      "gpuType": "T4",
      "include_colab_link": true
    },
    "kernelspec": {
      "name": "python3",
      "display_name": "Python 3",
      "language": "python"
    },
    "language_info": {
      "name": "python",
      "version": "3.10.13",
      "mimetype": "text/x-python",
      "codemirror_mode": {
        "name": "ipython",
        "version": 3
      },
      "pygments_lexer": "ipython3",
      "nbconvert_exporter": "python",
      "file_extension": ".py"
    },
    "accelerator": "GPU",
    "kaggle": {
      "accelerator": "nvidiaTeslaT4",
      "dataSources": [
        {
          "sourceId": 7696173,
          "sourceType": "datasetVersion",
          "datasetId": 4491873
        },
        {
          "sourceId": 7713735,
          "sourceType": "datasetVersion",
          "datasetId": 4504716
        }
      ],
      "dockerImageVersionId": 30646,
      "isInternetEnabled": true,
      "language": "python",
      "sourceType": "notebook",
      "isGpuEnabled": true
    },
    "widgets": {
      "application/vnd.jupyter.widget-state+json": {
        "b7550dd691194754a56a2e585d61d5fc": {
          "model_module": "@jupyter-widgets/controls",
          "model_name": "HBoxModel",
          "model_module_version": "1.5.0",
          "state": {
            "_dom_classes": [],
            "_model_module": "@jupyter-widgets/controls",
            "_model_module_version": "1.5.0",
            "_model_name": "HBoxModel",
            "_view_count": null,
            "_view_module": "@jupyter-widgets/controls",
            "_view_module_version": "1.5.0",
            "_view_name": "HBoxView",
            "box_style": "",
            "children": [
              "IPY_MODEL_7f21d932935b4fed8a396e3ff9f874c8",
              "IPY_MODEL_47800b337c72459c9acc1f2346a302ea",
              "IPY_MODEL_b57368ddeb834a938813215e74186a42"
            ],
            "layout": "IPY_MODEL_bf46a5d263024706a99dced8e024db8f"
          }
        },
        "7f21d932935b4fed8a396e3ff9f874c8": {
          "model_module": "@jupyter-widgets/controls",
          "model_name": "HTMLModel",
          "model_module_version": "1.5.0",
          "state": {
            "_dom_classes": [],
            "_model_module": "@jupyter-widgets/controls",
            "_model_module_version": "1.5.0",
            "_model_name": "HTMLModel",
            "_view_count": null,
            "_view_module": "@jupyter-widgets/controls",
            "_view_module_version": "1.5.0",
            "_view_name": "HTMLView",
            "description": "",
            "description_tooltip": null,
            "layout": "IPY_MODEL_76e324366c8d44be8203db94cce0e038",
            "placeholder": "​",
            "style": "IPY_MODEL_f45f9e3dd69b44d5a44d1559545c9dc2",
            "value": "tokenizer_config.json: 100%"
          }
        },
        "47800b337c72459c9acc1f2346a302ea": {
          "model_module": "@jupyter-widgets/controls",
          "model_name": "FloatProgressModel",
          "model_module_version": "1.5.0",
          "state": {
            "_dom_classes": [],
            "_model_module": "@jupyter-widgets/controls",
            "_model_module_version": "1.5.0",
            "_model_name": "FloatProgressModel",
            "_view_count": null,
            "_view_module": "@jupyter-widgets/controls",
            "_view_module_version": "1.5.0",
            "_view_name": "ProgressView",
            "bar_style": "success",
            "description": "",
            "description_tooltip": null,
            "layout": "IPY_MODEL_00ce387381e04edfb4f385dad3830e8e",
            "max": 79,
            "min": 0,
            "orientation": "horizontal",
            "style": "IPY_MODEL_b73ee8fc33de45cdabb9b374c0321054",
            "value": 79
          }
        },
        "b57368ddeb834a938813215e74186a42": {
          "model_module": "@jupyter-widgets/controls",
          "model_name": "HTMLModel",
          "model_module_version": "1.5.0",
          "state": {
            "_dom_classes": [],
            "_model_module": "@jupyter-widgets/controls",
            "_model_module_version": "1.5.0",
            "_model_name": "HTMLModel",
            "_view_count": null,
            "_view_module": "@jupyter-widgets/controls",
            "_view_module_version": "1.5.0",
            "_view_name": "HTMLView",
            "description": "",
            "description_tooltip": null,
            "layout": "IPY_MODEL_7aefb7a9ed20450ab18d1d041d8e56fb",
            "placeholder": "​",
            "style": "IPY_MODEL_a39439231c164925bfb36e0fe288f020",
            "value": " 79.0/79.0 [00:00&lt;00:00, 5.04kB/s]"
          }
        },
        "bf46a5d263024706a99dced8e024db8f": {
          "model_module": "@jupyter-widgets/base",
          "model_name": "LayoutModel",
          "model_module_version": "1.2.0",
          "state": {
            "_model_module": "@jupyter-widgets/base",
            "_model_module_version": "1.2.0",
            "_model_name": "LayoutModel",
            "_view_count": null,
            "_view_module": "@jupyter-widgets/base",
            "_view_module_version": "1.2.0",
            "_view_name": "LayoutView",
            "align_content": null,
            "align_items": null,
            "align_self": null,
            "border": null,
            "bottom": null,
            "display": null,
            "flex": null,
            "flex_flow": null,
            "grid_area": null,
            "grid_auto_columns": null,
            "grid_auto_flow": null,
            "grid_auto_rows": null,
            "grid_column": null,
            "grid_gap": null,
            "grid_row": null,
            "grid_template_areas": null,
            "grid_template_columns": null,
            "grid_template_rows": null,
            "height": null,
            "justify_content": null,
            "justify_items": null,
            "left": null,
            "margin": null,
            "max_height": null,
            "max_width": null,
            "min_height": null,
            "min_width": null,
            "object_fit": null,
            "object_position": null,
            "order": null,
            "overflow": null,
            "overflow_x": null,
            "overflow_y": null,
            "padding": null,
            "right": null,
            "top": null,
            "visibility": null,
            "width": null
          }
        },
        "76e324366c8d44be8203db94cce0e038": {
          "model_module": "@jupyter-widgets/base",
          "model_name": "LayoutModel",
          "model_module_version": "1.2.0",
          "state": {
            "_model_module": "@jupyter-widgets/base",
            "_model_module_version": "1.2.0",
            "_model_name": "LayoutModel",
            "_view_count": null,
            "_view_module": "@jupyter-widgets/base",
            "_view_module_version": "1.2.0",
            "_view_name": "LayoutView",
            "align_content": null,
            "align_items": null,
            "align_self": null,
            "border": null,
            "bottom": null,
            "display": null,
            "flex": null,
            "flex_flow": null,
            "grid_area": null,
            "grid_auto_columns": null,
            "grid_auto_flow": null,
            "grid_auto_rows": null,
            "grid_column": null,
            "grid_gap": null,
            "grid_row": null,
            "grid_template_areas": null,
            "grid_template_columns": null,
            "grid_template_rows": null,
            "height": null,
            "justify_content": null,
            "justify_items": null,
            "left": null,
            "margin": null,
            "max_height": null,
            "max_width": null,
            "min_height": null,
            "min_width": null,
            "object_fit": null,
            "object_position": null,
            "order": null,
            "overflow": null,
            "overflow_x": null,
            "overflow_y": null,
            "padding": null,
            "right": null,
            "top": null,
            "visibility": null,
            "width": null
          }
        },
        "f45f9e3dd69b44d5a44d1559545c9dc2": {
          "model_module": "@jupyter-widgets/controls",
          "model_name": "DescriptionStyleModel",
          "model_module_version": "1.5.0",
          "state": {
            "_model_module": "@jupyter-widgets/controls",
            "_model_module_version": "1.5.0",
            "_model_name": "DescriptionStyleModel",
            "_view_count": null,
            "_view_module": "@jupyter-widgets/base",
            "_view_module_version": "1.2.0",
            "_view_name": "StyleView",
            "description_width": ""
          }
        },
        "00ce387381e04edfb4f385dad3830e8e": {
          "model_module": "@jupyter-widgets/base",
          "model_name": "LayoutModel",
          "model_module_version": "1.2.0",
          "state": {
            "_model_module": "@jupyter-widgets/base",
            "_model_module_version": "1.2.0",
            "_model_name": "LayoutModel",
            "_view_count": null,
            "_view_module": "@jupyter-widgets/base",
            "_view_module_version": "1.2.0",
            "_view_name": "LayoutView",
            "align_content": null,
            "align_items": null,
            "align_self": null,
            "border": null,
            "bottom": null,
            "display": null,
            "flex": null,
            "flex_flow": null,
            "grid_area": null,
            "grid_auto_columns": null,
            "grid_auto_flow": null,
            "grid_auto_rows": null,
            "grid_column": null,
            "grid_gap": null,
            "grid_row": null,
            "grid_template_areas": null,
            "grid_template_columns": null,
            "grid_template_rows": null,
            "height": null,
            "justify_content": null,
            "justify_items": null,
            "left": null,
            "margin": null,
            "max_height": null,
            "max_width": null,
            "min_height": null,
            "min_width": null,
            "object_fit": null,
            "object_position": null,
            "order": null,
            "overflow": null,
            "overflow_x": null,
            "overflow_y": null,
            "padding": null,
            "right": null,
            "top": null,
            "visibility": null,
            "width": null
          }
        },
        "b73ee8fc33de45cdabb9b374c0321054": {
          "model_module": "@jupyter-widgets/controls",
          "model_name": "ProgressStyleModel",
          "model_module_version": "1.5.0",
          "state": {
            "_model_module": "@jupyter-widgets/controls",
            "_model_module_version": "1.5.0",
            "_model_name": "ProgressStyleModel",
            "_view_count": null,
            "_view_module": "@jupyter-widgets/base",
            "_view_module_version": "1.2.0",
            "_view_name": "StyleView",
            "bar_color": null,
            "description_width": ""
          }
        },
        "7aefb7a9ed20450ab18d1d041d8e56fb": {
          "model_module": "@jupyter-widgets/base",
          "model_name": "LayoutModel",
          "model_module_version": "1.2.0",
          "state": {
            "_model_module": "@jupyter-widgets/base",
            "_model_module_version": "1.2.0",
            "_model_name": "LayoutModel",
            "_view_count": null,
            "_view_module": "@jupyter-widgets/base",
            "_view_module_version": "1.2.0",
            "_view_name": "LayoutView",
            "align_content": null,
            "align_items": null,
            "align_self": null,
            "border": null,
            "bottom": null,
            "display": null,
            "flex": null,
            "flex_flow": null,
            "grid_area": null,
            "grid_auto_columns": null,
            "grid_auto_flow": null,
            "grid_auto_rows": null,
            "grid_column": null,
            "grid_gap": null,
            "grid_row": null,
            "grid_template_areas": null,
            "grid_template_columns": null,
            "grid_template_rows": null,
            "height": null,
            "justify_content": null,
            "justify_items": null,
            "left": null,
            "margin": null,
            "max_height": null,
            "max_width": null,
            "min_height": null,
            "min_width": null,
            "object_fit": null,
            "object_position": null,
            "order": null,
            "overflow": null,
            "overflow_x": null,
            "overflow_y": null,
            "padding": null,
            "right": null,
            "top": null,
            "visibility": null,
            "width": null
          }
        },
        "a39439231c164925bfb36e0fe288f020": {
          "model_module": "@jupyter-widgets/controls",
          "model_name": "DescriptionStyleModel",
          "model_module_version": "1.5.0",
          "state": {
            "_model_module": "@jupyter-widgets/controls",
            "_model_module_version": "1.5.0",
            "_model_name": "DescriptionStyleModel",
            "_view_count": null,
            "_view_module": "@jupyter-widgets/base",
            "_view_module_version": "1.2.0",
            "_view_name": "StyleView",
            "description_width": ""
          }
        },
        "8717278bbc0044a998574f8add104cf9": {
          "model_module": "@jupyter-widgets/controls",
          "model_name": "HBoxModel",
          "model_module_version": "1.5.0",
          "state": {
            "_dom_classes": [],
            "_model_module": "@jupyter-widgets/controls",
            "_model_module_version": "1.5.0",
            "_model_name": "HBoxModel",
            "_view_count": null,
            "_view_module": "@jupyter-widgets/controls",
            "_view_module_version": "1.5.0",
            "_view_name": "HBoxView",
            "box_style": "",
            "children": [
              "IPY_MODEL_3a6462bb4283411a8782b7af6b136eb9",
              "IPY_MODEL_95a921d37cd04642a2c6915963f94f28",
              "IPY_MODEL_397aeef0838a46039c032b6a0657b6ff"
            ],
            "layout": "IPY_MODEL_4b308407e7694b81996f8fdbaa02a772"
          }
        },
        "3a6462bb4283411a8782b7af6b136eb9": {
          "model_module": "@jupyter-widgets/controls",
          "model_name": "HTMLModel",
          "model_module_version": "1.5.0",
          "state": {
            "_dom_classes": [],
            "_model_module": "@jupyter-widgets/controls",
            "_model_module_version": "1.5.0",
            "_model_name": "HTMLModel",
            "_view_count": null,
            "_view_module": "@jupyter-widgets/controls",
            "_view_module_version": "1.5.0",
            "_view_name": "HTMLView",
            "description": "",
            "description_tooltip": null,
            "layout": "IPY_MODEL_20fbb095b80a4aac86eacfe02555e38f",
            "placeholder": "​",
            "style": "IPY_MODEL_ddfe6e5c1efc4234a45de478f442e71e",
            "value": "config.json: 100%"
          }
        },
        "95a921d37cd04642a2c6915963f94f28": {
          "model_module": "@jupyter-widgets/controls",
          "model_name": "FloatProgressModel",
          "model_module_version": "1.5.0",
          "state": {
            "_dom_classes": [],
            "_model_module": "@jupyter-widgets/controls",
            "_model_module_version": "1.5.0",
            "_model_name": "FloatProgressModel",
            "_view_count": null,
            "_view_module": "@jupyter-widgets/controls",
            "_view_module_version": "1.5.0",
            "_view_name": "ProgressView",
            "bar_style": "success",
            "description": "",
            "description_tooltip": null,
            "layout": "IPY_MODEL_e71017c067884c979a5baa55beb2aea4",
            "max": 571,
            "min": 0,
            "orientation": "horizontal",
            "style": "IPY_MODEL_db8fdb2d15c84d87856f3dfcc5563d77",
            "value": 571
          }
        },
        "397aeef0838a46039c032b6a0657b6ff": {
          "model_module": "@jupyter-widgets/controls",
          "model_name": "HTMLModel",
          "model_module_version": "1.5.0",
          "state": {
            "_dom_classes": [],
            "_model_module": "@jupyter-widgets/controls",
            "_model_module_version": "1.5.0",
            "_model_name": "HTMLModel",
            "_view_count": null,
            "_view_module": "@jupyter-widgets/controls",
            "_view_module_version": "1.5.0",
            "_view_name": "HTMLView",
            "description": "",
            "description_tooltip": null,
            "layout": "IPY_MODEL_a09bb56a26564ae9a7a33bbed82ad744",
            "placeholder": "​",
            "style": "IPY_MODEL_a16f599ecac14fc18b895bd12c75df3c",
            "value": " 571/571 [00:00&lt;00:00, 40.3kB/s]"
          }
        },
        "4b308407e7694b81996f8fdbaa02a772": {
          "model_module": "@jupyter-widgets/base",
          "model_name": "LayoutModel",
          "model_module_version": "1.2.0",
          "state": {
            "_model_module": "@jupyter-widgets/base",
            "_model_module_version": "1.2.0",
            "_model_name": "LayoutModel",
            "_view_count": null,
            "_view_module": "@jupyter-widgets/base",
            "_view_module_version": "1.2.0",
            "_view_name": "LayoutView",
            "align_content": null,
            "align_items": null,
            "align_self": null,
            "border": null,
            "bottom": null,
            "display": null,
            "flex": null,
            "flex_flow": null,
            "grid_area": null,
            "grid_auto_columns": null,
            "grid_auto_flow": null,
            "grid_auto_rows": null,
            "grid_column": null,
            "grid_gap": null,
            "grid_row": null,
            "grid_template_areas": null,
            "grid_template_columns": null,
            "grid_template_rows": null,
            "height": null,
            "justify_content": null,
            "justify_items": null,
            "left": null,
            "margin": null,
            "max_height": null,
            "max_width": null,
            "min_height": null,
            "min_width": null,
            "object_fit": null,
            "object_position": null,
            "order": null,
            "overflow": null,
            "overflow_x": null,
            "overflow_y": null,
            "padding": null,
            "right": null,
            "top": null,
            "visibility": null,
            "width": null
          }
        },
        "20fbb095b80a4aac86eacfe02555e38f": {
          "model_module": "@jupyter-widgets/base",
          "model_name": "LayoutModel",
          "model_module_version": "1.2.0",
          "state": {
            "_model_module": "@jupyter-widgets/base",
            "_model_module_version": "1.2.0",
            "_model_name": "LayoutModel",
            "_view_count": null,
            "_view_module": "@jupyter-widgets/base",
            "_view_module_version": "1.2.0",
            "_view_name": "LayoutView",
            "align_content": null,
            "align_items": null,
            "align_self": null,
            "border": null,
            "bottom": null,
            "display": null,
            "flex": null,
            "flex_flow": null,
            "grid_area": null,
            "grid_auto_columns": null,
            "grid_auto_flow": null,
            "grid_auto_rows": null,
            "grid_column": null,
            "grid_gap": null,
            "grid_row": null,
            "grid_template_areas": null,
            "grid_template_columns": null,
            "grid_template_rows": null,
            "height": null,
            "justify_content": null,
            "justify_items": null,
            "left": null,
            "margin": null,
            "max_height": null,
            "max_width": null,
            "min_height": null,
            "min_width": null,
            "object_fit": null,
            "object_position": null,
            "order": null,
            "overflow": null,
            "overflow_x": null,
            "overflow_y": null,
            "padding": null,
            "right": null,
            "top": null,
            "visibility": null,
            "width": null
          }
        },
        "ddfe6e5c1efc4234a45de478f442e71e": {
          "model_module": "@jupyter-widgets/controls",
          "model_name": "DescriptionStyleModel",
          "model_module_version": "1.5.0",
          "state": {
            "_model_module": "@jupyter-widgets/controls",
            "_model_module_version": "1.5.0",
            "_model_name": "DescriptionStyleModel",
            "_view_count": null,
            "_view_module": "@jupyter-widgets/base",
            "_view_module_version": "1.2.0",
            "_view_name": "StyleView",
            "description_width": ""
          }
        },
        "e71017c067884c979a5baa55beb2aea4": {
          "model_module": "@jupyter-widgets/base",
          "model_name": "LayoutModel",
          "model_module_version": "1.2.0",
          "state": {
            "_model_module": "@jupyter-widgets/base",
            "_model_module_version": "1.2.0",
            "_model_name": "LayoutModel",
            "_view_count": null,
            "_view_module": "@jupyter-widgets/base",
            "_view_module_version": "1.2.0",
            "_view_name": "LayoutView",
            "align_content": null,
            "align_items": null,
            "align_self": null,
            "border": null,
            "bottom": null,
            "display": null,
            "flex": null,
            "flex_flow": null,
            "grid_area": null,
            "grid_auto_columns": null,
            "grid_auto_flow": null,
            "grid_auto_rows": null,
            "grid_column": null,
            "grid_gap": null,
            "grid_row": null,
            "grid_template_areas": null,
            "grid_template_columns": null,
            "grid_template_rows": null,
            "height": null,
            "justify_content": null,
            "justify_items": null,
            "left": null,
            "margin": null,
            "max_height": null,
            "max_width": null,
            "min_height": null,
            "min_width": null,
            "object_fit": null,
            "object_position": null,
            "order": null,
            "overflow": null,
            "overflow_x": null,
            "overflow_y": null,
            "padding": null,
            "right": null,
            "top": null,
            "visibility": null,
            "width": null
          }
        },
        "db8fdb2d15c84d87856f3dfcc5563d77": {
          "model_module": "@jupyter-widgets/controls",
          "model_name": "ProgressStyleModel",
          "model_module_version": "1.5.0",
          "state": {
            "_model_module": "@jupyter-widgets/controls",
            "_model_module_version": "1.5.0",
            "_model_name": "ProgressStyleModel",
            "_view_count": null,
            "_view_module": "@jupyter-widgets/base",
            "_view_module_version": "1.2.0",
            "_view_name": "StyleView",
            "bar_color": null,
            "description_width": ""
          }
        },
        "a09bb56a26564ae9a7a33bbed82ad744": {
          "model_module": "@jupyter-widgets/base",
          "model_name": "LayoutModel",
          "model_module_version": "1.2.0",
          "state": {
            "_model_module": "@jupyter-widgets/base",
            "_model_module_version": "1.2.0",
            "_model_name": "LayoutModel",
            "_view_count": null,
            "_view_module": "@jupyter-widgets/base",
            "_view_module_version": "1.2.0",
            "_view_name": "LayoutView",
            "align_content": null,
            "align_items": null,
            "align_self": null,
            "border": null,
            "bottom": null,
            "display": null,
            "flex": null,
            "flex_flow": null,
            "grid_area": null,
            "grid_auto_columns": null,
            "grid_auto_flow": null,
            "grid_auto_rows": null,
            "grid_column": null,
            "grid_gap": null,
            "grid_row": null,
            "grid_template_areas": null,
            "grid_template_columns": null,
            "grid_template_rows": null,
            "height": null,
            "justify_content": null,
            "justify_items": null,
            "left": null,
            "margin": null,
            "max_height": null,
            "max_width": null,
            "min_height": null,
            "min_width": null,
            "object_fit": null,
            "object_position": null,
            "order": null,
            "overflow": null,
            "overflow_x": null,
            "overflow_y": null,
            "padding": null,
            "right": null,
            "top": null,
            "visibility": null,
            "width": null
          }
        },
        "a16f599ecac14fc18b895bd12c75df3c": {
          "model_module": "@jupyter-widgets/controls",
          "model_name": "DescriptionStyleModel",
          "model_module_version": "1.5.0",
          "state": {
            "_model_module": "@jupyter-widgets/controls",
            "_model_module_version": "1.5.0",
            "_model_name": "DescriptionStyleModel",
            "_view_count": null,
            "_view_module": "@jupyter-widgets/base",
            "_view_module_version": "1.2.0",
            "_view_name": "StyleView",
            "description_width": ""
          }
        },
        "3a60f02e13a64f0e9069f9c84b39607e": {
          "model_module": "@jupyter-widgets/controls",
          "model_name": "HBoxModel",
          "model_module_version": "1.5.0",
          "state": {
            "_dom_classes": [],
            "_model_module": "@jupyter-widgets/controls",
            "_model_module_version": "1.5.0",
            "_model_name": "HBoxModel",
            "_view_count": null,
            "_view_module": "@jupyter-widgets/controls",
            "_view_module_version": "1.5.0",
            "_view_name": "HBoxView",
            "box_style": "",
            "children": [
              "IPY_MODEL_2c510dec37824f6eb155af7995de80c2",
              "IPY_MODEL_ac7f461d7c37408ab359b236cc42b950",
              "IPY_MODEL_9dfac95e19de4dc8b0fd3c4e158843c4"
            ],
            "layout": "IPY_MODEL_ae99121145974be987c1c47d5cb88441"
          }
        },
        "2c510dec37824f6eb155af7995de80c2": {
          "model_module": "@jupyter-widgets/controls",
          "model_name": "HTMLModel",
          "model_module_version": "1.5.0",
          "state": {
            "_dom_classes": [],
            "_model_module": "@jupyter-widgets/controls",
            "_model_module_version": "1.5.0",
            "_model_name": "HTMLModel",
            "_view_count": null,
            "_view_module": "@jupyter-widgets/controls",
            "_view_module_version": "1.5.0",
            "_view_name": "HTMLView",
            "description": "",
            "description_tooltip": null,
            "layout": "IPY_MODEL_37a5596d641545a287347ced79c2f377",
            "placeholder": "​",
            "style": "IPY_MODEL_dfeb36dd7dbd4f679aa94b1aeb49a399",
            "value": "vocab.json: 100%"
          }
        },
        "ac7f461d7c37408ab359b236cc42b950": {
          "model_module": "@jupyter-widgets/controls",
          "model_name": "FloatProgressModel",
          "model_module_version": "1.5.0",
          "state": {
            "_dom_classes": [],
            "_model_module": "@jupyter-widgets/controls",
            "_model_module_version": "1.5.0",
            "_model_name": "FloatProgressModel",
            "_view_count": null,
            "_view_module": "@jupyter-widgets/controls",
            "_view_module_version": "1.5.0",
            "_view_name": "ProgressView",
            "bar_style": "success",
            "description": "",
            "description_tooltip": null,
            "layout": "IPY_MODEL_5f27acd15ac446078fc98159642bad8f",
            "max": 898822,
            "min": 0,
            "orientation": "horizontal",
            "style": "IPY_MODEL_b42ed6f7e2944341bd58caf188874a67",
            "value": 898822
          }
        },
        "9dfac95e19de4dc8b0fd3c4e158843c4": {
          "model_module": "@jupyter-widgets/controls",
          "model_name": "HTMLModel",
          "model_module_version": "1.5.0",
          "state": {
            "_dom_classes": [],
            "_model_module": "@jupyter-widgets/controls",
            "_model_module_version": "1.5.0",
            "_model_name": "HTMLModel",
            "_view_count": null,
            "_view_module": "@jupyter-widgets/controls",
            "_view_module_version": "1.5.0",
            "_view_name": "HTMLView",
            "description": "",
            "description_tooltip": null,
            "layout": "IPY_MODEL_d4d92fc482d144b68ceff9605e354f54",
            "placeholder": "​",
            "style": "IPY_MODEL_5230fba7327d49f0bffb779c298a3a3d",
            "value": " 899k/899k [00:00&lt;00:00, 1.13MB/s]"
          }
        },
        "ae99121145974be987c1c47d5cb88441": {
          "model_module": "@jupyter-widgets/base",
          "model_name": "LayoutModel",
          "model_module_version": "1.2.0",
          "state": {
            "_model_module": "@jupyter-widgets/base",
            "_model_module_version": "1.2.0",
            "_model_name": "LayoutModel",
            "_view_count": null,
            "_view_module": "@jupyter-widgets/base",
            "_view_module_version": "1.2.0",
            "_view_name": "LayoutView",
            "align_content": null,
            "align_items": null,
            "align_self": null,
            "border": null,
            "bottom": null,
            "display": null,
            "flex": null,
            "flex_flow": null,
            "grid_area": null,
            "grid_auto_columns": null,
            "grid_auto_flow": null,
            "grid_auto_rows": null,
            "grid_column": null,
            "grid_gap": null,
            "grid_row": null,
            "grid_template_areas": null,
            "grid_template_columns": null,
            "grid_template_rows": null,
            "height": null,
            "justify_content": null,
            "justify_items": null,
            "left": null,
            "margin": null,
            "max_height": null,
            "max_width": null,
            "min_height": null,
            "min_width": null,
            "object_fit": null,
            "object_position": null,
            "order": null,
            "overflow": null,
            "overflow_x": null,
            "overflow_y": null,
            "padding": null,
            "right": null,
            "top": null,
            "visibility": null,
            "width": null
          }
        },
        "37a5596d641545a287347ced79c2f377": {
          "model_module": "@jupyter-widgets/base",
          "model_name": "LayoutModel",
          "model_module_version": "1.2.0",
          "state": {
            "_model_module": "@jupyter-widgets/base",
            "_model_module_version": "1.2.0",
            "_model_name": "LayoutModel",
            "_view_count": null,
            "_view_module": "@jupyter-widgets/base",
            "_view_module_version": "1.2.0",
            "_view_name": "LayoutView",
            "align_content": null,
            "align_items": null,
            "align_self": null,
            "border": null,
            "bottom": null,
            "display": null,
            "flex": null,
            "flex_flow": null,
            "grid_area": null,
            "grid_auto_columns": null,
            "grid_auto_flow": null,
            "grid_auto_rows": null,
            "grid_column": null,
            "grid_gap": null,
            "grid_row": null,
            "grid_template_areas": null,
            "grid_template_columns": null,
            "grid_template_rows": null,
            "height": null,
            "justify_content": null,
            "justify_items": null,
            "left": null,
            "margin": null,
            "max_height": null,
            "max_width": null,
            "min_height": null,
            "min_width": null,
            "object_fit": null,
            "object_position": null,
            "order": null,
            "overflow": null,
            "overflow_x": null,
            "overflow_y": null,
            "padding": null,
            "right": null,
            "top": null,
            "visibility": null,
            "width": null
          }
        },
        "dfeb36dd7dbd4f679aa94b1aeb49a399": {
          "model_module": "@jupyter-widgets/controls",
          "model_name": "DescriptionStyleModel",
          "model_module_version": "1.5.0",
          "state": {
            "_model_module": "@jupyter-widgets/controls",
            "_model_module_version": "1.5.0",
            "_model_name": "DescriptionStyleModel",
            "_view_count": null,
            "_view_module": "@jupyter-widgets/base",
            "_view_module_version": "1.2.0",
            "_view_name": "StyleView",
            "description_width": ""
          }
        },
        "5f27acd15ac446078fc98159642bad8f": {
          "model_module": "@jupyter-widgets/base",
          "model_name": "LayoutModel",
          "model_module_version": "1.2.0",
          "state": {
            "_model_module": "@jupyter-widgets/base",
            "_model_module_version": "1.2.0",
            "_model_name": "LayoutModel",
            "_view_count": null,
            "_view_module": "@jupyter-widgets/base",
            "_view_module_version": "1.2.0",
            "_view_name": "LayoutView",
            "align_content": null,
            "align_items": null,
            "align_self": null,
            "border": null,
            "bottom": null,
            "display": null,
            "flex": null,
            "flex_flow": null,
            "grid_area": null,
            "grid_auto_columns": null,
            "grid_auto_flow": null,
            "grid_auto_rows": null,
            "grid_column": null,
            "grid_gap": null,
            "grid_row": null,
            "grid_template_areas": null,
            "grid_template_columns": null,
            "grid_template_rows": null,
            "height": null,
            "justify_content": null,
            "justify_items": null,
            "left": null,
            "margin": null,
            "max_height": null,
            "max_width": null,
            "min_height": null,
            "min_width": null,
            "object_fit": null,
            "object_position": null,
            "order": null,
            "overflow": null,
            "overflow_x": null,
            "overflow_y": null,
            "padding": null,
            "right": null,
            "top": null,
            "visibility": null,
            "width": null
          }
        },
        "b42ed6f7e2944341bd58caf188874a67": {
          "model_module": "@jupyter-widgets/controls",
          "model_name": "ProgressStyleModel",
          "model_module_version": "1.5.0",
          "state": {
            "_model_module": "@jupyter-widgets/controls",
            "_model_module_version": "1.5.0",
            "_model_name": "ProgressStyleModel",
            "_view_count": null,
            "_view_module": "@jupyter-widgets/base",
            "_view_module_version": "1.2.0",
            "_view_name": "StyleView",
            "bar_color": null,
            "description_width": ""
          }
        },
        "d4d92fc482d144b68ceff9605e354f54": {
          "model_module": "@jupyter-widgets/base",
          "model_name": "LayoutModel",
          "model_module_version": "1.2.0",
          "state": {
            "_model_module": "@jupyter-widgets/base",
            "_model_module_version": "1.2.0",
            "_model_name": "LayoutModel",
            "_view_count": null,
            "_view_module": "@jupyter-widgets/base",
            "_view_module_version": "1.2.0",
            "_view_name": "LayoutView",
            "align_content": null,
            "align_items": null,
            "align_self": null,
            "border": null,
            "bottom": null,
            "display": null,
            "flex": null,
            "flex_flow": null,
            "grid_area": null,
            "grid_auto_columns": null,
            "grid_auto_flow": null,
            "grid_auto_rows": null,
            "grid_column": null,
            "grid_gap": null,
            "grid_row": null,
            "grid_template_areas": null,
            "grid_template_columns": null,
            "grid_template_rows": null,
            "height": null,
            "justify_content": null,
            "justify_items": null,
            "left": null,
            "margin": null,
            "max_height": null,
            "max_width": null,
            "min_height": null,
            "min_width": null,
            "object_fit": null,
            "object_position": null,
            "order": null,
            "overflow": null,
            "overflow_x": null,
            "overflow_y": null,
            "padding": null,
            "right": null,
            "top": null,
            "visibility": null,
            "width": null
          }
        },
        "5230fba7327d49f0bffb779c298a3a3d": {
          "model_module": "@jupyter-widgets/controls",
          "model_name": "DescriptionStyleModel",
          "model_module_version": "1.5.0",
          "state": {
            "_model_module": "@jupyter-widgets/controls",
            "_model_module_version": "1.5.0",
            "_model_name": "DescriptionStyleModel",
            "_view_count": null,
            "_view_module": "@jupyter-widgets/base",
            "_view_module_version": "1.2.0",
            "_view_name": "StyleView",
            "description_width": ""
          }
        },
        "7e1b551feb00477e84f25ffb8841f1ac": {
          "model_module": "@jupyter-widgets/controls",
          "model_name": "HBoxModel",
          "model_module_version": "1.5.0",
          "state": {
            "_dom_classes": [],
            "_model_module": "@jupyter-widgets/controls",
            "_model_module_version": "1.5.0",
            "_model_name": "HBoxModel",
            "_view_count": null,
            "_view_module": "@jupyter-widgets/controls",
            "_view_module_version": "1.5.0",
            "_view_name": "HBoxView",
            "box_style": "",
            "children": [
              "IPY_MODEL_ce3424abf92f48379ae9008d44557f43",
              "IPY_MODEL_73171b6b24b648fd90e44e4c82e7e661",
              "IPY_MODEL_c69af2549489494ea7fe7db439abf773"
            ],
            "layout": "IPY_MODEL_4fbc52005dce43588a49cbf9c8961f53"
          }
        },
        "ce3424abf92f48379ae9008d44557f43": {
          "model_module": "@jupyter-widgets/controls",
          "model_name": "HTMLModel",
          "model_module_version": "1.5.0",
          "state": {
            "_dom_classes": [],
            "_model_module": "@jupyter-widgets/controls",
            "_model_module_version": "1.5.0",
            "_model_name": "HTMLModel",
            "_view_count": null,
            "_view_module": "@jupyter-widgets/controls",
            "_view_module_version": "1.5.0",
            "_view_name": "HTMLView",
            "description": "",
            "description_tooltip": null,
            "layout": "IPY_MODEL_e846ecbe59804cf18115901971f471be",
            "placeholder": "​",
            "style": "IPY_MODEL_53202f8cac2048be9aac9102574f33f8",
            "value": "merges.txt: 100%"
          }
        },
        "73171b6b24b648fd90e44e4c82e7e661": {
          "model_module": "@jupyter-widgets/controls",
          "model_name": "FloatProgressModel",
          "model_module_version": "1.5.0",
          "state": {
            "_dom_classes": [],
            "_model_module": "@jupyter-widgets/controls",
            "_model_module_version": "1.5.0",
            "_model_name": "FloatProgressModel",
            "_view_count": null,
            "_view_module": "@jupyter-widgets/controls",
            "_view_module_version": "1.5.0",
            "_view_name": "ProgressView",
            "bar_style": "success",
            "description": "",
            "description_tooltip": null,
            "layout": "IPY_MODEL_606baec1c62d4585b87aec7082715765",
            "max": 456318,
            "min": 0,
            "orientation": "horizontal",
            "style": "IPY_MODEL_acb4724be83646e0b3826381b3b7c893",
            "value": 456318
          }
        },
        "c69af2549489494ea7fe7db439abf773": {
          "model_module": "@jupyter-widgets/controls",
          "model_name": "HTMLModel",
          "model_module_version": "1.5.0",
          "state": {
            "_dom_classes": [],
            "_model_module": "@jupyter-widgets/controls",
            "_model_module_version": "1.5.0",
            "_model_name": "HTMLModel",
            "_view_count": null,
            "_view_module": "@jupyter-widgets/controls",
            "_view_module_version": "1.5.0",
            "_view_name": "HTMLView",
            "description": "",
            "description_tooltip": null,
            "layout": "IPY_MODEL_0e759e628bd94541a83eb43f6a4a15ab",
            "placeholder": "​",
            "style": "IPY_MODEL_9945009cc1ab45f189276907dc0bcbd5",
            "value": " 456k/456k [00:00&lt;00:00, 1.15MB/s]"
          }
        },
        "4fbc52005dce43588a49cbf9c8961f53": {
          "model_module": "@jupyter-widgets/base",
          "model_name": "LayoutModel",
          "model_module_version": "1.2.0",
          "state": {
            "_model_module": "@jupyter-widgets/base",
            "_model_module_version": "1.2.0",
            "_model_name": "LayoutModel",
            "_view_count": null,
            "_view_module": "@jupyter-widgets/base",
            "_view_module_version": "1.2.0",
            "_view_name": "LayoutView",
            "align_content": null,
            "align_items": null,
            "align_self": null,
            "border": null,
            "bottom": null,
            "display": null,
            "flex": null,
            "flex_flow": null,
            "grid_area": null,
            "grid_auto_columns": null,
            "grid_auto_flow": null,
            "grid_auto_rows": null,
            "grid_column": null,
            "grid_gap": null,
            "grid_row": null,
            "grid_template_areas": null,
            "grid_template_columns": null,
            "grid_template_rows": null,
            "height": null,
            "justify_content": null,
            "justify_items": null,
            "left": null,
            "margin": null,
            "max_height": null,
            "max_width": null,
            "min_height": null,
            "min_width": null,
            "object_fit": null,
            "object_position": null,
            "order": null,
            "overflow": null,
            "overflow_x": null,
            "overflow_y": null,
            "padding": null,
            "right": null,
            "top": null,
            "visibility": null,
            "width": null
          }
        },
        "e846ecbe59804cf18115901971f471be": {
          "model_module": "@jupyter-widgets/base",
          "model_name": "LayoutModel",
          "model_module_version": "1.2.0",
          "state": {
            "_model_module": "@jupyter-widgets/base",
            "_model_module_version": "1.2.0",
            "_model_name": "LayoutModel",
            "_view_count": null,
            "_view_module": "@jupyter-widgets/base",
            "_view_module_version": "1.2.0",
            "_view_name": "LayoutView",
            "align_content": null,
            "align_items": null,
            "align_self": null,
            "border": null,
            "bottom": null,
            "display": null,
            "flex": null,
            "flex_flow": null,
            "grid_area": null,
            "grid_auto_columns": null,
            "grid_auto_flow": null,
            "grid_auto_rows": null,
            "grid_column": null,
            "grid_gap": null,
            "grid_row": null,
            "grid_template_areas": null,
            "grid_template_columns": null,
            "grid_template_rows": null,
            "height": null,
            "justify_content": null,
            "justify_items": null,
            "left": null,
            "margin": null,
            "max_height": null,
            "max_width": null,
            "min_height": null,
            "min_width": null,
            "object_fit": null,
            "object_position": null,
            "order": null,
            "overflow": null,
            "overflow_x": null,
            "overflow_y": null,
            "padding": null,
            "right": null,
            "top": null,
            "visibility": null,
            "width": null
          }
        },
        "53202f8cac2048be9aac9102574f33f8": {
          "model_module": "@jupyter-widgets/controls",
          "model_name": "DescriptionStyleModel",
          "model_module_version": "1.5.0",
          "state": {
            "_model_module": "@jupyter-widgets/controls",
            "_model_module_version": "1.5.0",
            "_model_name": "DescriptionStyleModel",
            "_view_count": null,
            "_view_module": "@jupyter-widgets/base",
            "_view_module_version": "1.2.0",
            "_view_name": "StyleView",
            "description_width": ""
          }
        },
        "606baec1c62d4585b87aec7082715765": {
          "model_module": "@jupyter-widgets/base",
          "model_name": "LayoutModel",
          "model_module_version": "1.2.0",
          "state": {
            "_model_module": "@jupyter-widgets/base",
            "_model_module_version": "1.2.0",
            "_model_name": "LayoutModel",
            "_view_count": null,
            "_view_module": "@jupyter-widgets/base",
            "_view_module_version": "1.2.0",
            "_view_name": "LayoutView",
            "align_content": null,
            "align_items": null,
            "align_self": null,
            "border": null,
            "bottom": null,
            "display": null,
            "flex": null,
            "flex_flow": null,
            "grid_area": null,
            "grid_auto_columns": null,
            "grid_auto_flow": null,
            "grid_auto_rows": null,
            "grid_column": null,
            "grid_gap": null,
            "grid_row": null,
            "grid_template_areas": null,
            "grid_template_columns": null,
            "grid_template_rows": null,
            "height": null,
            "justify_content": null,
            "justify_items": null,
            "left": null,
            "margin": null,
            "max_height": null,
            "max_width": null,
            "min_height": null,
            "min_width": null,
            "object_fit": null,
            "object_position": null,
            "order": null,
            "overflow": null,
            "overflow_x": null,
            "overflow_y": null,
            "padding": null,
            "right": null,
            "top": null,
            "visibility": null,
            "width": null
          }
        },
        "acb4724be83646e0b3826381b3b7c893": {
          "model_module": "@jupyter-widgets/controls",
          "model_name": "ProgressStyleModel",
          "model_module_version": "1.5.0",
          "state": {
            "_model_module": "@jupyter-widgets/controls",
            "_model_module_version": "1.5.0",
            "_model_name": "ProgressStyleModel",
            "_view_count": null,
            "_view_module": "@jupyter-widgets/base",
            "_view_module_version": "1.2.0",
            "_view_name": "StyleView",
            "bar_color": null,
            "description_width": ""
          }
        },
        "0e759e628bd94541a83eb43f6a4a15ab": {
          "model_module": "@jupyter-widgets/base",
          "model_name": "LayoutModel",
          "model_module_version": "1.2.0",
          "state": {
            "_model_module": "@jupyter-widgets/base",
            "_model_module_version": "1.2.0",
            "_model_name": "LayoutModel",
            "_view_count": null,
            "_view_module": "@jupyter-widgets/base",
            "_view_module_version": "1.2.0",
            "_view_name": "LayoutView",
            "align_content": null,
            "align_items": null,
            "align_self": null,
            "border": null,
            "bottom": null,
            "display": null,
            "flex": null,
            "flex_flow": null,
            "grid_area": null,
            "grid_auto_columns": null,
            "grid_auto_flow": null,
            "grid_auto_rows": null,
            "grid_column": null,
            "grid_gap": null,
            "grid_row": null,
            "grid_template_areas": null,
            "grid_template_columns": null,
            "grid_template_rows": null,
            "height": null,
            "justify_content": null,
            "justify_items": null,
            "left": null,
            "margin": null,
            "max_height": null,
            "max_width": null,
            "min_height": null,
            "min_width": null,
            "object_fit": null,
            "object_position": null,
            "order": null,
            "overflow": null,
            "overflow_x": null,
            "overflow_y": null,
            "padding": null,
            "right": null,
            "top": null,
            "visibility": null,
            "width": null
          }
        },
        "9945009cc1ab45f189276907dc0bcbd5": {
          "model_module": "@jupyter-widgets/controls",
          "model_name": "DescriptionStyleModel",
          "model_module_version": "1.5.0",
          "state": {
            "_model_module": "@jupyter-widgets/controls",
            "_model_module_version": "1.5.0",
            "_model_name": "DescriptionStyleModel",
            "_view_count": null,
            "_view_module": "@jupyter-widgets/base",
            "_view_module_version": "1.2.0",
            "_view_name": "StyleView",
            "description_width": ""
          }
        },
        "f9f4c65c61c148218ef2a97c0b4bcafc": {
          "model_module": "@jupyter-widgets/controls",
          "model_name": "HBoxModel",
          "model_module_version": "1.5.0",
          "state": {
            "_dom_classes": [],
            "_model_module": "@jupyter-widgets/controls",
            "_model_module_version": "1.5.0",
            "_model_name": "HBoxModel",
            "_view_count": null,
            "_view_module": "@jupyter-widgets/controls",
            "_view_module_version": "1.5.0",
            "_view_name": "HBoxView",
            "box_style": "",
            "children": [
              "IPY_MODEL_8167edbebf504aabaeda545d71dc68ef",
              "IPY_MODEL_917f8e128d5a4859922310b2bd6df0a0",
              "IPY_MODEL_99bc476564ca46a9b2433a29ff1bef82"
            ],
            "layout": "IPY_MODEL_6246377ed6bc4464905a80c3efee8544"
          }
        },
        "8167edbebf504aabaeda545d71dc68ef": {
          "model_module": "@jupyter-widgets/controls",
          "model_name": "HTMLModel",
          "model_module_version": "1.5.0",
          "state": {
            "_dom_classes": [],
            "_model_module": "@jupyter-widgets/controls",
            "_model_module_version": "1.5.0",
            "_model_name": "HTMLModel",
            "_view_count": null,
            "_view_module": "@jupyter-widgets/controls",
            "_view_module_version": "1.5.0",
            "_view_name": "HTMLView",
            "description": "",
            "description_tooltip": null,
            "layout": "IPY_MODEL_d6d70fc580764c65ad57d8d329d43beb",
            "placeholder": "​",
            "style": "IPY_MODEL_c705fc157ecd478a9f7f1af9ad5ad1c7",
            "value": "special_tokens_map.json: 100%"
          }
        },
        "917f8e128d5a4859922310b2bd6df0a0": {
          "model_module": "@jupyter-widgets/controls",
          "model_name": "FloatProgressModel",
          "model_module_version": "1.5.0",
          "state": {
            "_dom_classes": [],
            "_model_module": "@jupyter-widgets/controls",
            "_model_module_version": "1.5.0",
            "_model_name": "FloatProgressModel",
            "_view_count": null,
            "_view_module": "@jupyter-widgets/controls",
            "_view_module_version": "1.5.0",
            "_view_name": "ProgressView",
            "bar_style": "success",
            "description": "",
            "description_tooltip": null,
            "layout": "IPY_MODEL_ef779e34aee4405f916acd80ddc61276",
            "max": 772,
            "min": 0,
            "orientation": "horizontal",
            "style": "IPY_MODEL_b06ef0f61fa04dac83aab9f56ce97a08",
            "value": 772
          }
        },
        "99bc476564ca46a9b2433a29ff1bef82": {
          "model_module": "@jupyter-widgets/controls",
          "model_name": "HTMLModel",
          "model_module_version": "1.5.0",
          "state": {
            "_dom_classes": [],
            "_model_module": "@jupyter-widgets/controls",
            "_model_module_version": "1.5.0",
            "_model_name": "HTMLModel",
            "_view_count": null,
            "_view_module": "@jupyter-widgets/controls",
            "_view_module_version": "1.5.0",
            "_view_name": "HTMLView",
            "description": "",
            "description_tooltip": null,
            "layout": "IPY_MODEL_ee25adfbe40b46ffabad34123ff0c2f8",
            "placeholder": "​",
            "style": "IPY_MODEL_f5537adbd43349deb873bdf00c6fb42f",
            "value": " 772/772 [00:00&lt;00:00, 53.0kB/s]"
          }
        },
        "6246377ed6bc4464905a80c3efee8544": {
          "model_module": "@jupyter-widgets/base",
          "model_name": "LayoutModel",
          "model_module_version": "1.2.0",
          "state": {
            "_model_module": "@jupyter-widgets/base",
            "_model_module_version": "1.2.0",
            "_model_name": "LayoutModel",
            "_view_count": null,
            "_view_module": "@jupyter-widgets/base",
            "_view_module_version": "1.2.0",
            "_view_name": "LayoutView",
            "align_content": null,
            "align_items": null,
            "align_self": null,
            "border": null,
            "bottom": null,
            "display": null,
            "flex": null,
            "flex_flow": null,
            "grid_area": null,
            "grid_auto_columns": null,
            "grid_auto_flow": null,
            "grid_auto_rows": null,
            "grid_column": null,
            "grid_gap": null,
            "grid_row": null,
            "grid_template_areas": null,
            "grid_template_columns": null,
            "grid_template_rows": null,
            "height": null,
            "justify_content": null,
            "justify_items": null,
            "left": null,
            "margin": null,
            "max_height": null,
            "max_width": null,
            "min_height": null,
            "min_width": null,
            "object_fit": null,
            "object_position": null,
            "order": null,
            "overflow": null,
            "overflow_x": null,
            "overflow_y": null,
            "padding": null,
            "right": null,
            "top": null,
            "visibility": null,
            "width": null
          }
        },
        "d6d70fc580764c65ad57d8d329d43beb": {
          "model_module": "@jupyter-widgets/base",
          "model_name": "LayoutModel",
          "model_module_version": "1.2.0",
          "state": {
            "_model_module": "@jupyter-widgets/base",
            "_model_module_version": "1.2.0",
            "_model_name": "LayoutModel",
            "_view_count": null,
            "_view_module": "@jupyter-widgets/base",
            "_view_module_version": "1.2.0",
            "_view_name": "LayoutView",
            "align_content": null,
            "align_items": null,
            "align_self": null,
            "border": null,
            "bottom": null,
            "display": null,
            "flex": null,
            "flex_flow": null,
            "grid_area": null,
            "grid_auto_columns": null,
            "grid_auto_flow": null,
            "grid_auto_rows": null,
            "grid_column": null,
            "grid_gap": null,
            "grid_row": null,
            "grid_template_areas": null,
            "grid_template_columns": null,
            "grid_template_rows": null,
            "height": null,
            "justify_content": null,
            "justify_items": null,
            "left": null,
            "margin": null,
            "max_height": null,
            "max_width": null,
            "min_height": null,
            "min_width": null,
            "object_fit": null,
            "object_position": null,
            "order": null,
            "overflow": null,
            "overflow_x": null,
            "overflow_y": null,
            "padding": null,
            "right": null,
            "top": null,
            "visibility": null,
            "width": null
          }
        },
        "c705fc157ecd478a9f7f1af9ad5ad1c7": {
          "model_module": "@jupyter-widgets/controls",
          "model_name": "DescriptionStyleModel",
          "model_module_version": "1.5.0",
          "state": {
            "_model_module": "@jupyter-widgets/controls",
            "_model_module_version": "1.5.0",
            "_model_name": "DescriptionStyleModel",
            "_view_count": null,
            "_view_module": "@jupyter-widgets/base",
            "_view_module_version": "1.2.0",
            "_view_name": "StyleView",
            "description_width": ""
          }
        },
        "ef779e34aee4405f916acd80ddc61276": {
          "model_module": "@jupyter-widgets/base",
          "model_name": "LayoutModel",
          "model_module_version": "1.2.0",
          "state": {
            "_model_module": "@jupyter-widgets/base",
            "_model_module_version": "1.2.0",
            "_model_name": "LayoutModel",
            "_view_count": null,
            "_view_module": "@jupyter-widgets/base",
            "_view_module_version": "1.2.0",
            "_view_name": "LayoutView",
            "align_content": null,
            "align_items": null,
            "align_self": null,
            "border": null,
            "bottom": null,
            "display": null,
            "flex": null,
            "flex_flow": null,
            "grid_area": null,
            "grid_auto_columns": null,
            "grid_auto_flow": null,
            "grid_auto_rows": null,
            "grid_column": null,
            "grid_gap": null,
            "grid_row": null,
            "grid_template_areas": null,
            "grid_template_columns": null,
            "grid_template_rows": null,
            "height": null,
            "justify_content": null,
            "justify_items": null,
            "left": null,
            "margin": null,
            "max_height": null,
            "max_width": null,
            "min_height": null,
            "min_width": null,
            "object_fit": null,
            "object_position": null,
            "order": null,
            "overflow": null,
            "overflow_x": null,
            "overflow_y": null,
            "padding": null,
            "right": null,
            "top": null,
            "visibility": null,
            "width": null
          }
        },
        "b06ef0f61fa04dac83aab9f56ce97a08": {
          "model_module": "@jupyter-widgets/controls",
          "model_name": "ProgressStyleModel",
          "model_module_version": "1.5.0",
          "state": {
            "_model_module": "@jupyter-widgets/controls",
            "_model_module_version": "1.5.0",
            "_model_name": "ProgressStyleModel",
            "_view_count": null,
            "_view_module": "@jupyter-widgets/base",
            "_view_module_version": "1.2.0",
            "_view_name": "StyleView",
            "bar_color": null,
            "description_width": ""
          }
        },
        "ee25adfbe40b46ffabad34123ff0c2f8": {
          "model_module": "@jupyter-widgets/base",
          "model_name": "LayoutModel",
          "model_module_version": "1.2.0",
          "state": {
            "_model_module": "@jupyter-widgets/base",
            "_model_module_version": "1.2.0",
            "_model_name": "LayoutModel",
            "_view_count": null,
            "_view_module": "@jupyter-widgets/base",
            "_view_module_version": "1.2.0",
            "_view_name": "LayoutView",
            "align_content": null,
            "align_items": null,
            "align_self": null,
            "border": null,
            "bottom": null,
            "display": null,
            "flex": null,
            "flex_flow": null,
            "grid_area": null,
            "grid_auto_columns": null,
            "grid_auto_flow": null,
            "grid_auto_rows": null,
            "grid_column": null,
            "grid_gap": null,
            "grid_row": null,
            "grid_template_areas": null,
            "grid_template_columns": null,
            "grid_template_rows": null,
            "height": null,
            "justify_content": null,
            "justify_items": null,
            "left": null,
            "margin": null,
            "max_height": null,
            "max_width": null,
            "min_height": null,
            "min_width": null,
            "object_fit": null,
            "object_position": null,
            "order": null,
            "overflow": null,
            "overflow_x": null,
            "overflow_y": null,
            "padding": null,
            "right": null,
            "top": null,
            "visibility": null,
            "width": null
          }
        },
        "f5537adbd43349deb873bdf00c6fb42f": {
          "model_module": "@jupyter-widgets/controls",
          "model_name": "DescriptionStyleModel",
          "model_module_version": "1.5.0",
          "state": {
            "_model_module": "@jupyter-widgets/controls",
            "_model_module_version": "1.5.0",
            "_model_name": "DescriptionStyleModel",
            "_view_count": null,
            "_view_module": "@jupyter-widgets/base",
            "_view_module_version": "1.2.0",
            "_view_name": "StyleView",
            "description_width": ""
          }
        },
        "446ad9a6979046d0a91ec3890b39a39a": {
          "model_module": "@jupyter-widgets/controls",
          "model_name": "HBoxModel",
          "model_module_version": "1.5.0",
          "state": {
            "_dom_classes": [],
            "_model_module": "@jupyter-widgets/controls",
            "_model_module_version": "1.5.0",
            "_model_name": "HBoxModel",
            "_view_count": null,
            "_view_module": "@jupyter-widgets/controls",
            "_view_module_version": "1.5.0",
            "_view_name": "HBoxView",
            "box_style": "",
            "children": [
              "IPY_MODEL_6ec4d72189e44abeb5d4853378aa7bb0",
              "IPY_MODEL_48c5acb0ce6e4a5ca835c43d13c65112",
              "IPY_MODEL_c2f749bdaef449d8834181eb3f02e12f"
            ],
            "layout": "IPY_MODEL_52a8ac5472784f188bd82875049913c2"
          }
        },
        "6ec4d72189e44abeb5d4853378aa7bb0": {
          "model_module": "@jupyter-widgets/controls",
          "model_name": "HTMLModel",
          "model_module_version": "1.5.0",
          "state": {
            "_dom_classes": [],
            "_model_module": "@jupyter-widgets/controls",
            "_model_module_version": "1.5.0",
            "_model_name": "HTMLModel",
            "_view_count": null,
            "_view_module": "@jupyter-widgets/controls",
            "_view_module_version": "1.5.0",
            "_view_name": "HTMLView",
            "description": "",
            "description_tooltip": null,
            "layout": "IPY_MODEL_88444c71a49b4c14ad15f9620765148f",
            "placeholder": "​",
            "style": "IPY_MODEL_54fbef188f034d55b00aa839a53fe9e4",
            "value": "model.safetensors: 100%"
          }
        },
        "48c5acb0ce6e4a5ca835c43d13c65112": {
          "model_module": "@jupyter-widgets/controls",
          "model_name": "FloatProgressModel",
          "model_module_version": "1.5.0",
          "state": {
            "_dom_classes": [],
            "_model_module": "@jupyter-widgets/controls",
            "_model_module_version": "1.5.0",
            "_model_name": "FloatProgressModel",
            "_view_count": null,
            "_view_module": "@jupyter-widgets/controls",
            "_view_module_version": "1.5.0",
            "_view_name": "ProgressView",
            "bar_style": "success",
            "description": "",
            "description_tooltip": null,
            "layout": "IPY_MODEL_e4b69bb3018c48ccab0a60ad3fb22383",
            "max": 496254442,
            "min": 0,
            "orientation": "horizontal",
            "style": "IPY_MODEL_812cd8d0bb224cafa50c70ebddc38b82",
            "value": 496254442
          }
        },
        "c2f749bdaef449d8834181eb3f02e12f": {
          "model_module": "@jupyter-widgets/controls",
          "model_name": "HTMLModel",
          "model_module_version": "1.5.0",
          "state": {
            "_dom_classes": [],
            "_model_module": "@jupyter-widgets/controls",
            "_model_module_version": "1.5.0",
            "_model_name": "HTMLModel",
            "_view_count": null,
            "_view_module": "@jupyter-widgets/controls",
            "_view_module_version": "1.5.0",
            "_view_name": "HTMLView",
            "description": "",
            "description_tooltip": null,
            "layout": "IPY_MODEL_7130890cfdb54c109b35571ec918c854",
            "placeholder": "​",
            "style": "IPY_MODEL_ce22bf3d5d614d9a806288e272cac330",
            "value": " 496M/496M [00:05&lt;00:00, 89.8MB/s]"
          }
        },
        "52a8ac5472784f188bd82875049913c2": {
          "model_module": "@jupyter-widgets/base",
          "model_name": "LayoutModel",
          "model_module_version": "1.2.0",
          "state": {
            "_model_module": "@jupyter-widgets/base",
            "_model_module_version": "1.2.0",
            "_model_name": "LayoutModel",
            "_view_count": null,
            "_view_module": "@jupyter-widgets/base",
            "_view_module_version": "1.2.0",
            "_view_name": "LayoutView",
            "align_content": null,
            "align_items": null,
            "align_self": null,
            "border": null,
            "bottom": null,
            "display": null,
            "flex": null,
            "flex_flow": null,
            "grid_area": null,
            "grid_auto_columns": null,
            "grid_auto_flow": null,
            "grid_auto_rows": null,
            "grid_column": null,
            "grid_gap": null,
            "grid_row": null,
            "grid_template_areas": null,
            "grid_template_columns": null,
            "grid_template_rows": null,
            "height": null,
            "justify_content": null,
            "justify_items": null,
            "left": null,
            "margin": null,
            "max_height": null,
            "max_width": null,
            "min_height": null,
            "min_width": null,
            "object_fit": null,
            "object_position": null,
            "order": null,
            "overflow": null,
            "overflow_x": null,
            "overflow_y": null,
            "padding": null,
            "right": null,
            "top": null,
            "visibility": null,
            "width": null
          }
        },
        "88444c71a49b4c14ad15f9620765148f": {
          "model_module": "@jupyter-widgets/base",
          "model_name": "LayoutModel",
          "model_module_version": "1.2.0",
          "state": {
            "_model_module": "@jupyter-widgets/base",
            "_model_module_version": "1.2.0",
            "_model_name": "LayoutModel",
            "_view_count": null,
            "_view_module": "@jupyter-widgets/base",
            "_view_module_version": "1.2.0",
            "_view_name": "LayoutView",
            "align_content": null,
            "align_items": null,
            "align_self": null,
            "border": null,
            "bottom": null,
            "display": null,
            "flex": null,
            "flex_flow": null,
            "grid_area": null,
            "grid_auto_columns": null,
            "grid_auto_flow": null,
            "grid_auto_rows": null,
            "grid_column": null,
            "grid_gap": null,
            "grid_row": null,
            "grid_template_areas": null,
            "grid_template_columns": null,
            "grid_template_rows": null,
            "height": null,
            "justify_content": null,
            "justify_items": null,
            "left": null,
            "margin": null,
            "max_height": null,
            "max_width": null,
            "min_height": null,
            "min_width": null,
            "object_fit": null,
            "object_position": null,
            "order": null,
            "overflow": null,
            "overflow_x": null,
            "overflow_y": null,
            "padding": null,
            "right": null,
            "top": null,
            "visibility": null,
            "width": null
          }
        },
        "54fbef188f034d55b00aa839a53fe9e4": {
          "model_module": "@jupyter-widgets/controls",
          "model_name": "DescriptionStyleModel",
          "model_module_version": "1.5.0",
          "state": {
            "_model_module": "@jupyter-widgets/controls",
            "_model_module_version": "1.5.0",
            "_model_name": "DescriptionStyleModel",
            "_view_count": null,
            "_view_module": "@jupyter-widgets/base",
            "_view_module_version": "1.2.0",
            "_view_name": "StyleView",
            "description_width": ""
          }
        },
        "e4b69bb3018c48ccab0a60ad3fb22383": {
          "model_module": "@jupyter-widgets/base",
          "model_name": "LayoutModel",
          "model_module_version": "1.2.0",
          "state": {
            "_model_module": "@jupyter-widgets/base",
            "_model_module_version": "1.2.0",
            "_model_name": "LayoutModel",
            "_view_count": null,
            "_view_module": "@jupyter-widgets/base",
            "_view_module_version": "1.2.0",
            "_view_name": "LayoutView",
            "align_content": null,
            "align_items": null,
            "align_self": null,
            "border": null,
            "bottom": null,
            "display": null,
            "flex": null,
            "flex_flow": null,
            "grid_area": null,
            "grid_auto_columns": null,
            "grid_auto_flow": null,
            "grid_auto_rows": null,
            "grid_column": null,
            "grid_gap": null,
            "grid_row": null,
            "grid_template_areas": null,
            "grid_template_columns": null,
            "grid_template_rows": null,
            "height": null,
            "justify_content": null,
            "justify_items": null,
            "left": null,
            "margin": null,
            "max_height": null,
            "max_width": null,
            "min_height": null,
            "min_width": null,
            "object_fit": null,
            "object_position": null,
            "order": null,
            "overflow": null,
            "overflow_x": null,
            "overflow_y": null,
            "padding": null,
            "right": null,
            "top": null,
            "visibility": null,
            "width": null
          }
        },
        "812cd8d0bb224cafa50c70ebddc38b82": {
          "model_module": "@jupyter-widgets/controls",
          "model_name": "ProgressStyleModel",
          "model_module_version": "1.5.0",
          "state": {
            "_model_module": "@jupyter-widgets/controls",
            "_model_module_version": "1.5.0",
            "_model_name": "ProgressStyleModel",
            "_view_count": null,
            "_view_module": "@jupyter-widgets/base",
            "_view_module_version": "1.2.0",
            "_view_name": "StyleView",
            "bar_color": null,
            "description_width": ""
          }
        },
        "7130890cfdb54c109b35571ec918c854": {
          "model_module": "@jupyter-widgets/base",
          "model_name": "LayoutModel",
          "model_module_version": "1.2.0",
          "state": {
            "_model_module": "@jupyter-widgets/base",
            "_model_module_version": "1.2.0",
            "_model_name": "LayoutModel",
            "_view_count": null,
            "_view_module": "@jupyter-widgets/base",
            "_view_module_version": "1.2.0",
            "_view_name": "LayoutView",
            "align_content": null,
            "align_items": null,
            "align_self": null,
            "border": null,
            "bottom": null,
            "display": null,
            "flex": null,
            "flex_flow": null,
            "grid_area": null,
            "grid_auto_columns": null,
            "grid_auto_flow": null,
            "grid_auto_rows": null,
            "grid_column": null,
            "grid_gap": null,
            "grid_row": null,
            "grid_template_areas": null,
            "grid_template_columns": null,
            "grid_template_rows": null,
            "height": null,
            "justify_content": null,
            "justify_items": null,
            "left": null,
            "margin": null,
            "max_height": null,
            "max_width": null,
            "min_height": null,
            "min_width": null,
            "object_fit": null,
            "object_position": null,
            "order": null,
            "overflow": null,
            "overflow_x": null,
            "overflow_y": null,
            "padding": null,
            "right": null,
            "top": null,
            "visibility": null,
            "width": null
          }
        },
        "ce22bf3d5d614d9a806288e272cac330": {
          "model_module": "@jupyter-widgets/controls",
          "model_name": "DescriptionStyleModel",
          "model_module_version": "1.5.0",
          "state": {
            "_model_module": "@jupyter-widgets/controls",
            "_model_module_version": "1.5.0",
            "_model_name": "DescriptionStyleModel",
            "_view_count": null,
            "_view_module": "@jupyter-widgets/base",
            "_view_module_version": "1.2.0",
            "_view_name": "StyleView",
            "description_width": ""
          }
        }
      }
    }
  },
  "nbformat_minor": 0,
  "nbformat": 4,
  "cells": [
    {
      "cell_type": "markdown",
      "metadata": {
        "id": "view-in-github",
        "colab_type": "text"
      },
      "source": [
        "<a href=\"https://colab.research.google.com/github/rohitdutta2510/Claim-Span-identification-using-LLMs/blob/main/Claims_QnA.ipynb\" target=\"_parent\"><img src=\"https://colab.research.google.com/assets/colab-badge.svg\" alt=\"Open In Colab\"/></a>"
      ]
    },
    {
      "cell_type": "code",
      "source": [
        "from google.colab import drive\n",
        "drive.mount('/content/drive')"
      ],
      "metadata": {
        "colab": {
          "base_uri": "https://localhost:8080/"
        },
        "id": "wkKBCD9pS2bQ",
        "outputId": "6787d3da-26ca-4cba-a897-dc255b970272"
      },
      "execution_count": null,
      "outputs": [
        {
          "output_type": "stream",
          "name": "stdout",
          "text": [
            "Mounted at /content/drive\n"
          ]
        }
      ]
    },
    {
      "cell_type": "markdown",
      "source": [],
      "metadata": {
        "id": "MJWgv3N5Ha3y"
      }
    },
    {
      "cell_type": "code",
      "source": [
        "import json\n",
        "import pandas as pd\n",
        "import torch\n",
        "import torch.nn as nn\n",
        "from torch.utils.data import DataLoader, Dataset, TensorDataset\n",
        "from transformers import AutoTokenizer, AutoModelForQuestionAnswering, AdamW, get_linear_schedule_with_warmup, pipeline\n",
        "from sklearn.metrics import precision_score, recall_score, f1_score\n",
        "import numpy as np\n",
        "import ast\n",
        "from tqdm import tqdm"
      ],
      "metadata": {
        "id": "a9ciHLAEn0PI",
        "execution": {
          "iopub.status.busy": "2024-02-28T17:05:02.075819Z",
          "iopub.execute_input": "2024-02-28T17:05:02.076152Z",
          "iopub.status.idle": "2024-02-28T17:05:26.219828Z",
          "shell.execute_reply.started": "2024-02-28T17:05:02.076124Z",
          "shell.execute_reply": "2024-02-28T17:05:26.219030Z"
        },
        "trusted": true
      },
      "execution_count": null,
      "outputs": []
    },
    {
      "cell_type": "code",
      "source": [
        "# TRAIN_PATH = '/content/drive/MyDrive/MTP/Dataset/kgp_train.csv'\n",
        "TRAIN_PATH = '/content/drive/MyDrive/MTP/Dataset/gen_combined.csv'\n",
        "TEST_PATH = '/content/drive/MyDrive/MTP/Dataset/kgp_test.csv'\n",
        "VAL_PATH = '/content/drive/MyDrive/MTP/Dataset/kgp_dev.csv'"
      ],
      "metadata": {
        "id": "4SEy7qwXn9jE",
        "execution": {
          "iopub.status.busy": "2024-02-28T17:05:26.221734Z",
          "iopub.execute_input": "2024-02-28T17:05:26.222467Z",
          "iopub.status.idle": "2024-02-28T17:05:26.226689Z",
          "shell.execute_reply.started": "2024-02-28T17:05:26.222430Z",
          "shell.execute_reply": "2024-02-28T17:05:26.225869Z"
        },
        "trusted": true
      },
      "execution_count": null,
      "outputs": []
    },
    {
      "cell_type": "code",
      "source": [
        "# return start, end, total length\n",
        "def transformTokenIndexToStringIndex(row):\n",
        "    span_start = json.loads(row['span_start_index'])[0]\n",
        "    span_end = json.loads(row['span_end_index'])[0]\n",
        "    cur_index = 0\n",
        "    start_str_index = -1\n",
        "    end_str_index = -1\n",
        "    tokens = ast.literal_eval(row['tokens'])\n",
        "    for i, token in enumerate(tokens):\n",
        "        # print(cur_index, token, len(token))\n",
        "        if( i== span_start):\n",
        "            start_str_index = cur_index\n",
        "        if ( i == span_end):\n",
        "            end_str_index = cur_index + len(token) - 1\n",
        "        cur_index += len(token)  +1 # white space\n",
        "    return start_str_index, end_str_index"
      ],
      "metadata": {
        "id": "oA2XYA8no7nf",
        "execution": {
          "iopub.status.busy": "2024-02-28T17:05:26.227904Z",
          "iopub.execute_input": "2024-02-28T17:05:26.228453Z",
          "iopub.status.idle": "2024-02-28T17:05:26.246677Z",
          "shell.execute_reply.started": "2024-02-28T17:05:26.228398Z",
          "shell.execute_reply": "2024-02-28T17:05:26.245891Z"
        },
        "trusted": true
      },
      "execution_count": null,
      "outputs": []
    },
    {
      "cell_type": "code",
      "source": [
        "def getDataset(filepath):\n",
        "    data = pd.read_csv(filepath)\n",
        "    data['context'] = data['tokens'].apply(lambda token: ' '.join(ast.literal_eval(token)))\n",
        "    data['start_index'] = data.apply(lambda row: transformTokenIndexToStringIndex(row)[0], axis = 1)\n",
        "    data['end_index'] = data.apply(lambda row: transformTokenIndexToStringIndex(row)[1], axis = 1)\n",
        "\n",
        "    data = data[data['end_index'] != -1] # removing datapoints having end_index = -1\n",
        "\n",
        "    return data"
      ],
      "metadata": {
        "id": "g8Ae3qGAuJ5Y",
        "execution": {
          "iopub.status.busy": "2024-02-28T17:05:26.247627Z",
          "iopub.execute_input": "2024-02-28T17:05:26.247903Z",
          "iopub.status.idle": "2024-02-28T17:05:26.257619Z",
          "shell.execute_reply.started": "2024-02-28T17:05:26.247879Z",
          "shell.execute_reply": "2024-02-28T17:05:26.256735Z"
        },
        "trusted": true
      },
      "execution_count": null,
      "outputs": []
    },
    {
      "cell_type": "code",
      "source": [
        "# getDataset(TRAIN_PATH).iloc[1]"
      ],
      "metadata": {
        "id": "2Gy3IBIyc_7i",
        "execution": {
          "iopub.status.busy": "2024-02-28T17:05:26.259801Z",
          "iopub.execute_input": "2024-02-28T17:05:26.260112Z",
          "iopub.status.idle": "2024-02-28T17:05:26.268573Z",
          "shell.execute_reply.started": "2024-02-28T17:05:26.260083Z",
          "shell.execute_reply": "2024-02-28T17:05:26.267779Z"
        },
        "trusted": true
      },
      "execution_count": null,
      "outputs": []
    },
    {
      "cell_type": "code",
      "source": [
        "# Hyperparameters\n",
        "# Define training parameters\n",
        "batch_size = 32\n",
        "num_epochs = 10\n",
        "learning_rate = 2e-6\n",
        "# Check if a GPU is available\n",
        "if torch.cuda.is_available():\n",
        "    DEVICE = \"cuda\"\n",
        "else:\n",
        "    DEVICE = \"cpu\"\n",
        "\n",
        "device = DEVICE\n",
        "\n",
        "model_name = \"deepset/roberta-base-squad2\""
      ],
      "metadata": {
        "id": "2OvSkAvYu1H9",
        "execution": {
          "iopub.status.busy": "2024-02-28T17:05:43.427378Z",
          "iopub.execute_input": "2024-02-28T17:05:43.428080Z",
          "iopub.status.idle": "2024-02-28T17:05:43.432888Z",
          "shell.execute_reply.started": "2024-02-28T17:05:43.428047Z",
          "shell.execute_reply": "2024-02-28T17:05:43.431948Z"
        },
        "trusted": true
      },
      "execution_count": null,
      "outputs": []
    },
    {
      "cell_type": "code",
      "source": [
        "def custom_metrics(pred_starts, pred_ends, true_starts, true_ends):\n",
        "    TOTAL_PRE = 0\n",
        "    TOTAL_RECALL = 0\n",
        "    TOTAL_F1= 0\n",
        "    n = len(pred_starts)\n",
        "    for i in range(n):\n",
        "        pred_start = pred_starts[i]\n",
        "        pred_end = pred_ends[i]\n",
        "        true_start = true_starts[i]\n",
        "        true_end = true_ends[i]\n",
        "\n",
        "        span_overlap = max( min(true_end, pred_end) - max(true_start, pred_start) + 1, 0)\n",
        "\n",
        "        pred_span_length = pred_end - pred_start + 1\n",
        "        if pred_span_length <= 0:\n",
        "            cur_pre = 0\n",
        "        else:\n",
        "            cur_pre = span_overlap / pred_span_length\n",
        "        TOTAL_PRE += cur_pre\n",
        "\n",
        "        span_recall = max( min(true_end, pred_end) - max(true_start, pred_start) + 1, 0)\n",
        "\n",
        "        true_span_length = true_end - true_start + 1\n",
        "\n",
        "        cur_recall = span_recall / true_span_length\n",
        "        TOTAL_RECALL += cur_recall\n",
        "        if (cur_recall + cur_pre) <=0:\n",
        "            cur_f1 = 0\n",
        "        else :\n",
        "            cur_f1 = ((2*cur_recall*cur_pre)/ (cur_recall + cur_pre))\n",
        "        TOTAL_F1 += cur_f1\n",
        "    return ((TOTAL_PRE / n), (TOTAL_RECALL)/n, (TOTAL_F1)/n)"
      ],
      "metadata": {
        "id": "SYahEnGs1G6N",
        "execution": {
          "iopub.status.busy": "2024-02-28T17:05:44.479934Z",
          "iopub.execute_input": "2024-02-28T17:05:44.480610Z",
          "iopub.status.idle": "2024-02-28T17:05:44.489194Z",
          "shell.execute_reply.started": "2024-02-28T17:05:44.480575Z",
          "shell.execute_reply": "2024-02-28T17:05:44.488164Z"
        },
        "trusted": true
      },
      "execution_count": null,
      "outputs": []
    },
    {
      "cell_type": "code",
      "source": [
        "def getDataLoader(filepath):\n",
        "    data = getDataset(filepath)\n",
        "    questions = [\"What is being claimed about covid-19 vaccine in this tweet?\"]* len(data) # Why?\n",
        "    contexts = data['context'].tolist()\n",
        "    inputs = tokenizer(contexts, questions, padding=True, truncation=True, return_tensors=\"pt\",return_token_type_ids=True).to(device)\n",
        "    start_positions = []\n",
        "    end_positions = []\n",
        "    start_index = data['start_index'].tolist()\n",
        "    end_index = data['end_index'].tolist()\n",
        "    for i in range(len(start_index)):\n",
        "        pos = None\n",
        "        char_index = start_index[i]\n",
        "        while pos is None:\n",
        "            pos = inputs.char_to_token(i, char_index)\n",
        "            char_index += 1\n",
        "        start_positions.append(pos)\n",
        "\n",
        "        pos = None\n",
        "        char_index = end_index[i]\n",
        "        while pos is None:\n",
        "            pos = inputs.char_to_token(i, char_index)\n",
        "            char_index -= 1\n",
        "        end_positions.append(pos)\n",
        "\n",
        "    start_positions = torch.tensor(start_positions)\n",
        "    end_positions = torch.tensor(end_positions)\n",
        "\n",
        "    dataset = TensorDataset(inputs.input_ids, inputs.attention_mask, start_positions, end_positions)\n",
        "    return DataLoader(dataset, batch_size=batch_size)\n"
      ],
      "metadata": {
        "id": "DCOrR34-1I_9",
        "execution": {
          "iopub.status.busy": "2024-02-28T17:05:44.987561Z",
          "iopub.execute_input": "2024-02-28T17:05:44.988166Z",
          "iopub.status.idle": "2024-02-28T17:05:44.996896Z",
          "shell.execute_reply.started": "2024-02-28T17:05:44.988136Z",
          "shell.execute_reply": "2024-02-28T17:05:44.995999Z"
        },
        "trusted": true
      },
      "execution_count": null,
      "outputs": []
    },
    {
      "cell_type": "code",
      "source": [
        "tokenizer = AutoTokenizer.from_pretrained(model_name)\n",
        "model = AutoModelForQuestionAnswering.from_pretrained(model_name).to(device)"
      ],
      "metadata": {
        "id": "_dnYNtaH1NcM",
        "execution": {
          "iopub.status.busy": "2024-02-28T17:05:45.799325Z",
          "iopub.execute_input": "2024-02-28T17:05:45.799967Z",
          "iopub.status.idle": "2024-02-28T17:05:50.513621Z",
          "shell.execute_reply.started": "2024-02-28T17:05:45.799937Z",
          "shell.execute_reply": "2024-02-28T17:05:50.512215Z"
        },
        "trusted": true,
        "colab": {
          "base_uri": "https://localhost:8080/",
          "height": 333,
          "referenced_widgets": [
            "b7550dd691194754a56a2e585d61d5fc",
            "7f21d932935b4fed8a396e3ff9f874c8",
            "47800b337c72459c9acc1f2346a302ea",
            "b57368ddeb834a938813215e74186a42",
            "bf46a5d263024706a99dced8e024db8f",
            "76e324366c8d44be8203db94cce0e038",
            "f45f9e3dd69b44d5a44d1559545c9dc2",
            "00ce387381e04edfb4f385dad3830e8e",
            "b73ee8fc33de45cdabb9b374c0321054",
            "7aefb7a9ed20450ab18d1d041d8e56fb",
            "a39439231c164925bfb36e0fe288f020",
            "8717278bbc0044a998574f8add104cf9",
            "3a6462bb4283411a8782b7af6b136eb9",
            "95a921d37cd04642a2c6915963f94f28",
            "397aeef0838a46039c032b6a0657b6ff",
            "4b308407e7694b81996f8fdbaa02a772",
            "20fbb095b80a4aac86eacfe02555e38f",
            "ddfe6e5c1efc4234a45de478f442e71e",
            "e71017c067884c979a5baa55beb2aea4",
            "db8fdb2d15c84d87856f3dfcc5563d77",
            "a09bb56a26564ae9a7a33bbed82ad744",
            "a16f599ecac14fc18b895bd12c75df3c",
            "3a60f02e13a64f0e9069f9c84b39607e",
            "2c510dec37824f6eb155af7995de80c2",
            "ac7f461d7c37408ab359b236cc42b950",
            "9dfac95e19de4dc8b0fd3c4e158843c4",
            "ae99121145974be987c1c47d5cb88441",
            "37a5596d641545a287347ced79c2f377",
            "dfeb36dd7dbd4f679aa94b1aeb49a399",
            "5f27acd15ac446078fc98159642bad8f",
            "b42ed6f7e2944341bd58caf188874a67",
            "d4d92fc482d144b68ceff9605e354f54",
            "5230fba7327d49f0bffb779c298a3a3d",
            "7e1b551feb00477e84f25ffb8841f1ac",
            "ce3424abf92f48379ae9008d44557f43",
            "73171b6b24b648fd90e44e4c82e7e661",
            "c69af2549489494ea7fe7db439abf773",
            "4fbc52005dce43588a49cbf9c8961f53",
            "e846ecbe59804cf18115901971f471be",
            "53202f8cac2048be9aac9102574f33f8",
            "606baec1c62d4585b87aec7082715765",
            "acb4724be83646e0b3826381b3b7c893",
            "0e759e628bd94541a83eb43f6a4a15ab",
            "9945009cc1ab45f189276907dc0bcbd5",
            "f9f4c65c61c148218ef2a97c0b4bcafc",
            "8167edbebf504aabaeda545d71dc68ef",
            "917f8e128d5a4859922310b2bd6df0a0",
            "99bc476564ca46a9b2433a29ff1bef82",
            "6246377ed6bc4464905a80c3efee8544",
            "d6d70fc580764c65ad57d8d329d43beb",
            "c705fc157ecd478a9f7f1af9ad5ad1c7",
            "ef779e34aee4405f916acd80ddc61276",
            "b06ef0f61fa04dac83aab9f56ce97a08",
            "ee25adfbe40b46ffabad34123ff0c2f8",
            "f5537adbd43349deb873bdf00c6fb42f",
            "446ad9a6979046d0a91ec3890b39a39a",
            "6ec4d72189e44abeb5d4853378aa7bb0",
            "48c5acb0ce6e4a5ca835c43d13c65112",
            "c2f749bdaef449d8834181eb3f02e12f",
            "52a8ac5472784f188bd82875049913c2",
            "88444c71a49b4c14ad15f9620765148f",
            "54fbef188f034d55b00aa839a53fe9e4",
            "e4b69bb3018c48ccab0a60ad3fb22383",
            "812cd8d0bb224cafa50c70ebddc38b82",
            "7130890cfdb54c109b35571ec918c854",
            "ce22bf3d5d614d9a806288e272cac330"
          ]
        },
        "outputId": "10427336-beae-4f1a-88c4-d1619d5bb510"
      },
      "execution_count": null,
      "outputs": [
        {
          "output_type": "stream",
          "name": "stderr",
          "text": [
            "/usr/local/lib/python3.10/dist-packages/huggingface_hub/utils/_token.py:88: UserWarning: \n",
            "The secret `HF_TOKEN` does not exist in your Colab secrets.\n",
            "To authenticate with the Hugging Face Hub, create a token in your settings tab (https://huggingface.co/settings/tokens), set it as secret in your Google Colab and restart your session.\n",
            "You will be able to reuse this secret in all of your notebooks.\n",
            "Please note that authentication is recommended but still optional to access public models or datasets.\n",
            "  warnings.warn(\n"
          ]
        },
        {
          "output_type": "display_data",
          "data": {
            "text/plain": [
              "tokenizer_config.json:   0%|          | 0.00/79.0 [00:00<?, ?B/s]"
            ],
            "application/vnd.jupyter.widget-view+json": {
              "version_major": 2,
              "version_minor": 0,
              "model_id": "b7550dd691194754a56a2e585d61d5fc"
            }
          },
          "metadata": {}
        },
        {
          "output_type": "display_data",
          "data": {
            "text/plain": [
              "config.json:   0%|          | 0.00/571 [00:00<?, ?B/s]"
            ],
            "application/vnd.jupyter.widget-view+json": {
              "version_major": 2,
              "version_minor": 0,
              "model_id": "8717278bbc0044a998574f8add104cf9"
            }
          },
          "metadata": {}
        },
        {
          "output_type": "display_data",
          "data": {
            "text/plain": [
              "vocab.json:   0%|          | 0.00/899k [00:00<?, ?B/s]"
            ],
            "application/vnd.jupyter.widget-view+json": {
              "version_major": 2,
              "version_minor": 0,
              "model_id": "3a60f02e13a64f0e9069f9c84b39607e"
            }
          },
          "metadata": {}
        },
        {
          "output_type": "display_data",
          "data": {
            "text/plain": [
              "merges.txt:   0%|          | 0.00/456k [00:00<?, ?B/s]"
            ],
            "application/vnd.jupyter.widget-view+json": {
              "version_major": 2,
              "version_minor": 0,
              "model_id": "7e1b551feb00477e84f25ffb8841f1ac"
            }
          },
          "metadata": {}
        },
        {
          "output_type": "display_data",
          "data": {
            "text/plain": [
              "special_tokens_map.json:   0%|          | 0.00/772 [00:00<?, ?B/s]"
            ],
            "application/vnd.jupyter.widget-view+json": {
              "version_major": 2,
              "version_minor": 0,
              "model_id": "f9f4c65c61c148218ef2a97c0b4bcafc"
            }
          },
          "metadata": {}
        },
        {
          "output_type": "display_data",
          "data": {
            "text/plain": [
              "model.safetensors:   0%|          | 0.00/496M [00:00<?, ?B/s]"
            ],
            "application/vnd.jupyter.widget-view+json": {
              "version_major": 2,
              "version_minor": 0,
              "model_id": "446ad9a6979046d0a91ec3890b39a39a"
            }
          },
          "metadata": {}
        }
      ]
    },
    {
      "cell_type": "code",
      "source": [
        "train_dataloader = getDataLoader(TRAIN_PATH)\n",
        "val_data_loader = getDataLoader(VAL_PATH)\n",
        "\n",
        "best_f1_score = 0\n",
        "\n",
        "#Fine-tuning Loop\n",
        "optimizer = torch.optim.AdamW(model.parameters(), lr=learning_rate)\n",
        "\n",
        "for epoch in range(num_epochs):  # Replace with your desired number of epochs\n",
        "    model.train()\n",
        "\n",
        "    total_loss= 0\n",
        "    total_precision = 0\n",
        "    total_f1 = 0\n",
        "    total_recall = 0\n",
        "    num_batch = len(train_dataloader)\n",
        "    for batch in tqdm(train_dataloader, desc=\"Training\"):\n",
        "        input_ids, attention_mask, start_positions, end_positions = [t.to(device) for t in batch]\n",
        "\n",
        "        outputs = model(input_ids, attention_mask=attention_mask, start_positions=start_positions, end_positions=end_positions)\n",
        "        predicted_start = outputs.start_logits.argmax(dim=1)\n",
        "        predicted_end = outputs.end_logits.argmax(dim=1)\n",
        "        prec, rec, f1 = custom_metrics(predicted_start, predicted_end, start_positions, end_positions)\n",
        "        total_precision += prec\n",
        "        total_recall += rec\n",
        "        total_f1 += f1\n",
        "        loss = outputs.loss\n",
        "        loss.backward()\n",
        "        total_loss += loss.item()\n",
        "        optimizer.step()\n",
        "        optimizer.zero_grad()\n",
        "\n",
        "    print(f\"Epoch {epoch+1}: Loss: {total_loss}, Precision: {total_precision/num_batch}, Recall: {total_recall/num_batch}, F1 Score: {total_f1/num_batch}\")\n",
        "\n",
        "    model.eval()\n",
        "\n",
        "    true_span_start = []\n",
        "    true_span_end = []\n",
        "    pred_span_start = []\n",
        "    pred_span_end = []\n",
        "\n",
        "    # Wrap the test_data_loader with tqdm for the progress bar\n",
        "    for batch in tqdm(val_data_loader, desc=\"Validation\"):\n",
        "        with torch.no_grad():\n",
        "            input_ids, attention_mask, start_positions, end_positions = [t.to(device) for t in batch]\n",
        "\n",
        "            outputs = model(input_ids, attention_mask=attention_mask)\n",
        "            predicted_start = outputs.start_logits.argmax(dim=1)\n",
        "            predicted_end = outputs.end_logits.argmax(dim=1)\n",
        "\n",
        "            true_span_start.extend(start_positions)\n",
        "            true_span_end.extend(end_positions)\n",
        "            pred_span_start.extend(predicted_start)\n",
        "            pred_span_end.extend(predicted_end)\n",
        "\n",
        "    # Calculate and print precision, recall, and F1 score for the test set\n",
        "    precision_val, recall_val, f1_val = custom_metrics(predicted_start, predicted_end, start_positions, end_positions)\n",
        "\n",
        "    print(f\"Val Precision: {precision_val}, Val Recall: {recall_val}, Val F1 Score: {f1_val}\")\n",
        "\n",
        "    if f1_val >= best_f1_score:\n",
        "        model.save_pretrained(\"/content/drive/MyDrive/MTP/fine_tuned_combined_model\")\n",
        "        best_f1_score = f1_val\n"
      ],
      "metadata": {
        "id": "DwPNyxQT1RUa",
        "outputId": "af648d4a-e040-4315-ecab-2dd7227412f9",
        "execution": {
          "iopub.status.busy": "2024-02-28T17:06:01.482305Z",
          "iopub.execute_input": "2024-02-28T17:06:01.482662Z",
          "iopub.status.idle": "2024-02-28T17:38:29.956966Z",
          "shell.execute_reply.started": "2024-02-28T17:06:01.482632Z",
          "shell.execute_reply": "2024-02-28T17:38:29.955991Z"
        },
        "trusted": true,
        "colab": {
          "base_uri": "https://localhost:8080/"
        }
      },
      "execution_count": null,
      "outputs": [
        {
          "metadata": {
            "tags": null
          },
          "name": "stderr",
          "output_type": "stream",
          "text": [
            "Training: 100%|██████████| 195/195 [03:50<00:00,  1.18s/it]\n"
          ]
        },
        {
          "metadata": {
            "tags": null
          },
          "name": "stdout",
          "output_type": "stream",
          "text": [
            "Epoch 1: Loss: 492.78871488571167, Precision: 0.46893808245658875, Recall: 0.5117174983024597, F1 Score: 0.44410011172294617\n"
          ]
        },
        {
          "metadata": {
            "tags": null
          },
          "name": "stderr",
          "output_type": "stream",
          "text": [
            "Validation: 100%|██████████| 33/33 [00:09<00:00,  3.64it/s]\n"
          ]
        },
        {
          "metadata": {
            "tags": null
          },
          "name": "stdout",
          "output_type": "stream",
          "text": [
            "Val Precision: 0.5333333611488342, Val Recall: 0.952000081539154, Val F1 Score: 0.6611687541007996\n"
          ]
        },
        {
          "metadata": {
            "tags": null
          },
          "name": "stderr",
          "output_type": "stream",
          "text": [
            "Training: 100%|██████████| 195/195 [03:52<00:00,  1.19s/it]\n"
          ]
        },
        {
          "metadata": {
            "tags": null
          },
          "name": "stdout",
          "output_type": "stream",
          "text": [
            "Epoch 2: Loss: 363.16892647743225, Precision: 0.5581360459327698, Recall: 0.6677841544151306, F1 Score: 0.5647165775299072\n"
          ]
        },
        {
          "metadata": {
            "tags": null
          },
          "name": "stderr",
          "output_type": "stream",
          "text": [
            "Validation: 100%|██████████| 33/33 [00:09<00:00,  3.67it/s]\n"
          ]
        },
        {
          "metadata": {
            "tags": null
          },
          "name": "stdout",
          "output_type": "stream",
          "text": [
            "Val Precision: 0.5817949175834656, Val Recall: 0.952000081539154, Val F1 Score: 0.7006672024726868\n"
          ]
        },
        {
          "metadata": {
            "tags": null
          },
          "name": "stderr",
          "output_type": "stream",
          "text": [
            "Training: 100%|██████████| 195/195 [03:52<00:00,  1.19s/it]\n"
          ]
        },
        {
          "metadata": {
            "tags": null
          },
          "name": "stdout",
          "output_type": "stream",
          "text": [
            "Epoch 3: Loss: 334.0686229467392, Precision: 0.583550214767456, Recall: 0.7022126317024231, F1 Score: 0.5940567851066589\n"
          ]
        },
        {
          "metadata": {
            "tags": null
          },
          "name": "stderr",
          "output_type": "stream",
          "text": [
            "Validation: 100%|██████████| 33/33 [00:08<00:00,  3.69it/s]\n"
          ]
        },
        {
          "metadata": {
            "tags": null
          },
          "name": "stdout",
          "output_type": "stream",
          "text": [
            "Val Precision: 0.5817949175834656, Val Recall: 0.952000081539154, Val F1 Score: 0.7006672024726868\n"
          ]
        },
        {
          "metadata": {
            "tags": null
          },
          "name": "stderr",
          "output_type": "stream",
          "text": [
            "Training: 100%|██████████| 195/195 [03:52<00:00,  1.19s/it]\n"
          ]
        },
        {
          "metadata": {
            "tags": null
          },
          "name": "stdout",
          "output_type": "stream",
          "text": [
            "Epoch 4: Loss: 316.88877165317535, Precision: 0.5982397198677063, Recall: 0.7175949811935425, F1 Score: 0.6089369058609009\n"
          ]
        },
        {
          "metadata": {
            "tags": null
          },
          "name": "stderr",
          "output_type": "stream",
          "text": [
            "Validation: 100%|██████████| 33/33 [00:08<00:00,  3.67it/s]\n"
          ]
        },
        {
          "metadata": {
            "tags": null
          },
          "name": "stdout",
          "output_type": "stream",
          "text": [
            "Val Precision: 0.5817949175834656, Val Recall: 0.952000081539154, Val F1 Score: 0.7006672024726868\n"
          ]
        },
        {
          "metadata": {
            "tags": null
          },
          "name": "stderr",
          "output_type": "stream",
          "text": [
            "Training: 100%|██████████| 195/195 [03:52<00:00,  1.19s/it]\n"
          ]
        },
        {
          "metadata": {
            "tags": null
          },
          "name": "stdout",
          "output_type": "stream",
          "text": [
            "Epoch 5: Loss: 305.93818616867065, Precision: 0.6074138879776001, Recall: 0.7311949133872986, F1 Score: 0.620825469493866\n"
          ]
        },
        {
          "metadata": {
            "tags": null
          },
          "name": "stderr",
          "output_type": "stream",
          "text": [
            "Validation: 100%|██████████| 33/33 [00:08<00:00,  3.69it/s]\n"
          ]
        },
        {
          "metadata": {
            "tags": null
          },
          "name": "stdout",
          "output_type": "stream",
          "text": [
            "Val Precision: 0.5817949175834656, Val Recall: 0.952000081539154, Val F1 Score: 0.7006672024726868\n"
          ]
        },
        {
          "metadata": {
            "tags": null
          },
          "name": "stderr",
          "output_type": "stream",
          "text": [
            "Training: 100%|██████████| 195/195 [03:51<00:00,  1.19s/it]\n"
          ]
        },
        {
          "metadata": {
            "tags": null
          },
          "name": "stdout",
          "output_type": "stream",
          "text": [
            "Epoch 6: Loss: 297.9094614982605, Precision: 0.6100097298622131, Recall: 0.7349936962127686, F1 Score: 0.6242656707763672\n"
          ]
        },
        {
          "metadata": {
            "tags": null
          },
          "name": "stderr",
          "output_type": "stream",
          "text": [
            "Validation: 100%|██████████| 33/33 [00:08<00:00,  3.69it/s]\n"
          ]
        },
        {
          "metadata": {
            "tags": null
          },
          "name": "stdout",
          "output_type": "stream",
          "text": [
            "Val Precision: 0.5817949175834656, Val Recall: 0.952000081539154, Val F1 Score: 0.7006672024726868\n"
          ]
        },
        {
          "metadata": {
            "tags": null
          },
          "name": "stderr",
          "output_type": "stream",
          "text": [
            "Training: 100%|██████████| 195/195 [03:52<00:00,  1.19s/it]\n"
          ]
        },
        {
          "metadata": {
            "tags": null
          },
          "name": "stdout",
          "output_type": "stream",
          "text": [
            "Epoch 7: Loss: 291.67316538095474, Precision: 0.6170781850814819, Recall: 0.7390387058258057, F1 Score: 0.6307056546211243\n"
          ]
        },
        {
          "metadata": {
            "tags": null
          },
          "name": "stderr",
          "output_type": "stream",
          "text": [
            "Validation: 100%|██████████| 33/33 [00:08<00:00,  3.67it/s]\n"
          ]
        },
        {
          "metadata": {
            "tags": null
          },
          "name": "stdout",
          "output_type": "stream",
          "text": [
            "Val Precision: 0.5817949175834656, Val Recall: 0.952000081539154, Val F1 Score: 0.7006672024726868\n"
          ]
        },
        {
          "metadata": {
            "tags": null
          },
          "name": "stderr",
          "output_type": "stream",
          "text": [
            "Training: 100%|██████████| 195/195 [03:51<00:00,  1.19s/it]\n"
          ]
        },
        {
          "metadata": {
            "tags": null
          },
          "name": "stdout",
          "output_type": "stream",
          "text": [
            "Epoch 8: Loss: 283.8448808193207, Precision: 0.622242271900177, Recall: 0.7434734106063843, F1 Score: 0.635040283203125\n"
          ]
        },
        {
          "metadata": {
            "tags": null
          },
          "name": "stderr",
          "output_type": "stream",
          "text": [
            "Validation: 100%|██████████| 33/33 [00:08<00:00,  3.69it/s]\n"
          ]
        },
        {
          "metadata": {
            "tags": null
          },
          "name": "stdout",
          "output_type": "stream",
          "text": [
            "Val Precision: 0.5817949175834656, Val Recall: 0.952000081539154, Val F1 Score: 0.7006672024726868\n"
          ]
        },
        {
          "output_type": "stream",
          "name": "stderr",
          "text": [
            "Training: 100%|██████████| 195/195 [03:51<00:00,  1.19s/it]\n"
          ]
        },
        {
          "output_type": "stream",
          "name": "stdout",
          "text": [
            "Epoch 9: Loss: 278.89671808481216, Precision: 0.6267263889312744, Recall: 0.7503165602684021, F1 Score: 0.6401208639144897\n"
          ]
        },
        {
          "output_type": "stream",
          "name": "stderr",
          "text": [
            "Validation: 100%|██████████| 33/33 [00:08<00:00,  3.67it/s]\n"
          ]
        },
        {
          "output_type": "stream",
          "name": "stdout",
          "text": [
            "Val Precision: 0.5817949175834656, Val Recall: 0.952000081539154, Val F1 Score: 0.7006672024726868\n"
          ]
        },
        {
          "output_type": "stream",
          "name": "stderr",
          "text": [
            "Training: 100%|██████████| 195/195 [03:52<00:00,  1.19s/it]\n"
          ]
        },
        {
          "output_type": "stream",
          "name": "stdout",
          "text": [
            "Epoch 10: Loss: 273.03790628910065, Precision: 0.6307471990585327, Recall: 0.7565194368362427, F1 Score: 0.645780622959137\n"
          ]
        },
        {
          "output_type": "stream",
          "name": "stderr",
          "text": [
            "Validation: 100%|██████████| 33/33 [00:08<00:00,  3.68it/s]\n"
          ]
        },
        {
          "output_type": "stream",
          "name": "stdout",
          "text": [
            "Val Precision: 0.5817949175834656, Val Recall: 0.952000081539154, Val F1 Score: 0.7006672024726868\n"
          ]
        }
      ]
    },
    {
      "cell_type": "code",
      "source": [
        "# Save the fine-tuned model if needed\n",
        "# model.save_pretrained(\"fine_tuned_model\")"
      ],
      "metadata": {
        "id": "hKaEkNp5S1xc"
      },
      "execution_count": null,
      "outputs": []
    },
    {
      "cell_type": "code",
      "source": [
        "# Evaluation on the test set\n",
        "model.eval()\n",
        "true_span_start = []\n",
        "true_span_end = []\n",
        "pred_span_start = []\n",
        "pred_span_end = []\n",
        "\n",
        "test_data_loader = getDataLoader(TEST_PATH)\n",
        "# Wrap the test_data_loader with tqdm for the progress bar\n",
        "for batch in tqdm(test_data_loader, desc=\"Testing\"):\n",
        "    with torch.no_grad():\n",
        "        input_ids, attention_mask, start_positions, end_positions = [t.to(device) for t in batch]\n",
        "\n",
        "        outputs = model(input_ids, attention_mask=attention_mask)\n",
        "        predicted_start = outputs.start_logits.argmax(dim=1)\n",
        "        predicted_end = outputs.end_logits.argmax(dim=1)\n",
        "\n",
        "        true_span_start.extend(start_positions)\n",
        "        true_span_end.extend(end_positions)\n",
        "        pred_span_start.extend(predicted_start)\n",
        "        pred_span_end.extend(predicted_end)\n",
        "\n",
        "# Calculate and print precision, recall, and F1 score for the test set\n",
        "precision_test, recall_test, f1_test = custom_metrics(predicted_start, predicted_end, start_positions, end_positions)\n",
        "\n",
        "print(f\"Test Precision: {precision_test}, Test Recall: {recall_test}, Test F1 Score: {f1_test}\")"
      ],
      "metadata": {
        "id": "5bO3iDE51VTT",
        "outputId": "b97db7ea-1d4e-4231-f34a-450b21fc9ad5",
        "execution": {
          "iopub.status.busy": "2024-02-28T17:42:20.098703Z",
          "iopub.execute_input": "2024-02-28T17:42:20.099602Z",
          "iopub.status.idle": "2024-02-28T17:42:33.807341Z",
          "shell.execute_reply.started": "2024-02-28T17:42:20.099555Z",
          "shell.execute_reply": "2024-02-28T17:42:33.806466Z"
        },
        "trusted": true,
        "colab": {
          "base_uri": "https://localhost:8080/"
        }
      },
      "execution_count": null,
      "outputs": [
        {
          "output_type": "stream",
          "name": "stderr",
          "text": [
            "Testing: 100%|██████████| 33/33 [00:08<00:00,  3.75it/s]"
          ]
        },
        {
          "output_type": "stream",
          "name": "stdout",
          "text": [
            "Test Precision: 0.0, Test Recall: 0.0, Test F1 Score: 0.0\n"
          ]
        },
        {
          "output_type": "stream",
          "name": "stderr",
          "text": [
            "\n"
          ]
        }
      ]
    },
    {
      "cell_type": "code",
      "source": [
        "tokenizer = AutoTokenizer.from_pretrained(model_name)\n",
        "\n",
        "# Load the fine-tuned model\n",
        "model_checkpoint = \"/content/drive/MyDrive/MTP/fine_tuned_model\"\n",
        "model = AutoModelForQuestionAnswering.from_pretrained(model_checkpoint).to(\"cpu\")\n",
        "\n",
        "# Create a Q&A pipeline\n",
        "qa_pipeline = pipeline(\"question-answering\", model=model, tokenizer=tokenizer)\n",
        "\n",
        "# Example evaluation\n",
        "test_question = \"What is being claimed about covid-19 vaccine in this tweet?\"\n",
        "test_context = '''Hey guy, hope you all are living well. I just got to know that\n",
        "Vaccine is made using human blood.\n",
        "vaccine correlated to heart attack.\n",
        "I think thats gross. By the way did you know about this?\n",
        "'''\n",
        "\n",
        "test_context_1 = '''Vaccine Myth Buster: Contraindication: Allergic reaction on previous dose of vaccine +ve after\n",
        " vaccination? That's because vaccine will fully protect you only after 2 wks of 2nd dose, Wear mask.\n",
        " Covid +ve = then take vaccine after 6 wks of recovery. Both vaccines are equally good.'''\n",
        "\n",
        "\n",
        "test_context_2 = '''I watched a tutorial from a RN in Atlanta who was black. They said that they mRNA\n",
        "protein that \\u00e2 \\u20ac \\u2122 s in Pfizer is bad for the melanin in people who are\n",
        "black. so, could imagine being black and getting the covid vaccine And 1 of the side effects 6 months is you get\n",
        "vitiligo \\u00f0\\u0178 \\u02dc \\u201d'''\n",
        "\n",
        "QA_input = {\n",
        "    'question': test_question,\n",
        "    'context': test_context_1\n",
        "}\n",
        "\n",
        "answer = qa_pipeline(QA_input,topk=2)\n",
        "\n",
        "print(\"\\nQuestion:\", test_question)\n",
        "print(\"\\nAnswer:\", answer)"
      ],
      "metadata": {
        "id": "w5ZAYokC9-nk",
        "outputId": "d96af018-9bfa-484d-ec39-2f1d72ced4a5",
        "execution": {
          "iopub.status.busy": "2024-02-28T17:42:56.157176Z",
          "iopub.execute_input": "2024-02-28T17:42:56.158043Z",
          "iopub.status.idle": "2024-02-28T17:42:56.662875Z",
          "shell.execute_reply.started": "2024-02-28T17:42:56.158011Z",
          "shell.execute_reply": "2024-02-28T17:42:56.661912Z"
        },
        "trusted": true,
        "colab": {
          "base_uri": "https://localhost:8080/"
        }
      },
      "execution_count": null,
      "outputs": [
        {
          "output_type": "stream",
          "name": "stderr",
          "text": [
            "/usr/local/lib/python3.10/dist-packages/transformers/pipelines/question_answering.py:326: UserWarning: topk parameter is deprecated, use top_k instead\n",
            "  warnings.warn(\"topk parameter is deprecated, use top_k instead\", UserWarning)\n"
          ]
        },
        {
          "output_type": "stream",
          "name": "stdout",
          "text": [
            "\n",
            "Question: What is being claimed about covid-19 vaccine in this tweet?\n",
            "\n",
            "Answer: [{'score': 0.17221011221408844, 'start': 39, 'end': 108, 'answer': 'Allergic reaction on previous dose of vaccine +ve after\\n vaccination?'}, {'score': 0.05471419915556908, 'start': 124, 'end': 184, 'answer': 'vaccine will fully protect you only after 2 wks of 2nd dose,'}]\n"
          ]
        }
      ]
    },
    {
      "cell_type": "code",
      "source": [],
      "metadata": {
        "id": "OT-Y2rwc-Paj"
      },
      "execution_count": null,
      "outputs": []
    }
  ]
}